{
 "cells": [
  {
   "cell_type": "markdown",
   "metadata": {
    "colab_type": "text",
    "id": "NEHCvFhIvR4F"
   },
   "source": [
    "### Bayesian Optimization을 이용하여 application과 previous로 만들어진 집합의 하이퍼 파라미터 튜닝"
   ]
  },
  {
   "cell_type": "markdown",
   "metadata": {
    "colab_type": "text",
    "id": "eg1AO0nNvR4H"
   },
   "source": [
    "#### 라이브러리 및 데이터 세트 로딩. 이전 application 데이터의 FE 함수 복사"
   ]
  },
  {
   "cell_type": "code",
   "execution_count": 1,
   "metadata": {
    "colab": {},
    "colab_type": "code",
    "executionInfo": {
     "elapsed": 991,
     "status": "ok",
     "timestamp": 1599720204836,
     "user": {
      "displayName": "권철민",
      "photoUrl": "",
      "userId": "03917677622451543916"
     },
     "user_tz": -540
    },
    "id": "il0VyvcgvR4K"
   },
   "outputs": [],
   "source": [
    "import numpy as np\n",
    "import pandas as pd\n",
    "import gc\n",
    "import time\n",
    "import matplotlib.pyplot as plt\n",
    "import seaborn as sns\n",
    "import os\n",
    "%matplotlib inline\n",
    "import warnings\n",
    "warnings.filterwarnings(\"ignore\")\n",
    "\n",
    "pd.set_option('display.max_rows', 100)\n",
    "pd.set_option('display.max_columns', 200)"
   ]
  },
  {
   "cell_type": "code",
   "execution_count": 2,
   "metadata": {
    "colab": {},
    "colab_type": "code",
    "executionInfo": {
     "elapsed": 19158,
     "status": "ok",
     "timestamp": 1599720300489,
     "user": {
      "displayName": "권철민",
      "photoUrl": "",
      "userId": "03917677622451543916"
     },
     "user_tz": -540
    },
    "id": "vaO4thuSvR4X"
   },
   "outputs": [],
   "source": [
    "def get_dataset():\n",
    "    app_train = pd.read_csv('application_train.csv')\n",
    "    app_test = pd.read_csv('application_test.csv')\n",
    "    apps = pd.concat([app_train, app_test])\n",
    "    prev = pd.read_csv('previous_application.csv')\n",
    "\n",
    "    return apps, prev\n",
    "\n",
    "apps, prev = get_dataset()\n",
    "    "
   ]
  },
  {
   "cell_type": "markdown",
   "metadata": {
    "colab_type": "text",
    "id": "rmG4YOdpvR4e"
   },
   "source": [
    "#### 이전 application 데이터의 feature engineering 함수 복사"
   ]
  },
  {
   "cell_type": "code",
   "execution_count": 3,
   "metadata": {
    "colab": {},
    "colab_type": "code",
    "executionInfo": {
     "elapsed": 1019,
     "status": "ok",
     "timestamp": 1599720313824,
     "user": {
      "displayName": "권철민",
      "photoUrl": "",
      "userId": "03917677622451543916"
     },
     "user_tz": -540
    },
    "id": "2WIrIw4uvR4h"
   },
   "outputs": [],
   "source": [
    "def get_apps_processed(apps):\n",
    "    \n",
    "    # EXT_SOURCE_X FEATURE 가공\n",
    "    apps['APPS_EXT_SOURCE_MEAN'] = apps[['EXT_SOURCE_1', 'EXT_SOURCE_2', 'EXT_SOURCE_3']].mean(axis=1)\n",
    "    apps['APPS_EXT_SOURCE_STD'] = apps[['EXT_SOURCE_1', 'EXT_SOURCE_2', 'EXT_SOURCE_3']].std(axis=1)\n",
    "    apps['APPS_EXT_SOURCE_STD'] = apps['APPS_EXT_SOURCE_STD'].fillna(apps['APPS_EXT_SOURCE_STD'].mean())\n",
    "    \n",
    "    # AMT_CREDIT 비율로 Feature 가공\n",
    "    apps['APPS_ANNUITY_CREDIT_RATIO'] = apps['AMT_ANNUITY']/apps['AMT_CREDIT']\n",
    "    apps['APPS_GOODS_CREDIT_RATIO'] = apps['AMT_GOODS_PRICE']/apps['AMT_CREDIT']\n",
    "    \n",
    "    # AMT_INCOME_TOTAL 비율로 Feature 가공\n",
    "    apps['APPS_ANNUITY_INCOME_RATIO'] = apps['AMT_ANNUITY']/apps['AMT_INCOME_TOTAL']\n",
    "    apps['APPS_CREDIT_INCOME_RATIO'] = apps['AMT_CREDIT']/apps['AMT_INCOME_TOTAL']\n",
    "    apps['APPS_GOODS_INCOME_RATIO'] = apps['AMT_GOODS_PRICE']/apps['AMT_INCOME_TOTAL']\n",
    "    apps['APPS_CNT_FAM_INCOME_RATIO'] = apps['AMT_INCOME_TOTAL']/apps['CNT_FAM_MEMBERS']\n",
    "    \n",
    "    # DAYS_BIRTH, DAYS_EMPLOYED 비율로 Feature 가공\n",
    "    apps['APPS_EMPLOYED_BIRTH_RATIO'] = apps['DAYS_EMPLOYED']/apps['DAYS_BIRTH']\n",
    "    apps['APPS_INCOME_EMPLOYED_RATIO'] = apps['AMT_INCOME_TOTAL']/apps['DAYS_EMPLOYED']\n",
    "    apps['APPS_INCOME_BIRTH_RATIO'] = apps['AMT_INCOME_TOTAL']/apps['DAYS_BIRTH']\n",
    "    apps['APPS_CAR_BIRTH_RATIO'] = apps['OWN_CAR_AGE'] / apps['DAYS_BIRTH']\n",
    "    apps['APPS_CAR_EMPLOYED_RATIO'] = apps['OWN_CAR_AGE'] / apps['DAYS_EMPLOYED']\n",
    "    \n",
    "    return apps"
   ]
  },
  {
   "cell_type": "markdown",
   "metadata": {
    "colab_type": "text",
    "id": "9mU0PqE9vR4o"
   },
   "source": [
    "#### previous 데이터 가공후 인코딩 및 최종 데이터 집합 생성하는 함수 선언"
   ]
  },
  {
   "cell_type": "code",
   "execution_count": 4,
   "metadata": {
    "colab": {},
    "colab_type": "code",
    "executionInfo": {
     "elapsed": 1087,
     "status": "ok",
     "timestamp": 1599720316275,
     "user": {
      "displayName": "권철민",
      "photoUrl": "",
      "userId": "03917677622451543916"
     },
     "user_tz": -540
    },
    "id": "VOSuDuMvvR4p"
   },
   "outputs": [],
   "source": [
    "from sklearn.model_selection import train_test_split\n",
    "from lightgbm import LGBMClassifier\n",
    "\n",
    "def get_prev_processed(prev):\n",
    "    # 대출 신청 금액과 실제 대출액/대출 상품금액 차이 및 비율\n",
    "    prev['PREV_CREDIT_DIFF'] = prev['AMT_APPLICATION'] - prev['AMT_CREDIT']\n",
    "    prev['PREV_GOODS_DIFF'] = prev['AMT_APPLICATION'] - prev['AMT_GOODS_PRICE']\n",
    "    prev['PREV_CREDIT_APPL_RATIO'] = prev['AMT_CREDIT']/prev['AMT_APPLICATION']\n",
    "    # prev['PREV_ANNUITY_APPL_RATIO'] = prev['AMT_ANNUITY']/prev['AMT_APPLICATION']\n",
    "    prev['PREV_GOODS_APPL_RATIO'] = prev['AMT_GOODS_PRICE']/prev['AMT_APPLICATION']\n",
    "    \n",
    "    prev['DAYS_FIRST_DRAWING'].replace(365243, np.nan, inplace= True)\n",
    "    prev['DAYS_FIRST_DUE'].replace(365243, np.nan, inplace= True)\n",
    "    prev['DAYS_LAST_DUE_1ST_VERSION'].replace(365243, np.nan, inplace= True)\n",
    "    prev['DAYS_LAST_DUE'].replace(365243, np.nan, inplace= True)\n",
    "    prev['DAYS_TERMINATION'].replace(365243, np.nan, inplace= True)\n",
    "    # 첫번째 만기일과 마지막 만기일까지의 기간\n",
    "    prev['PREV_DAYS_LAST_DUE_DIFF'] = prev['DAYS_LAST_DUE_1ST_VERSION'] - prev['DAYS_LAST_DUE']\n",
    "    # 매월 납부 금액과 납부 횟수 곱해서 전체 납부 금액 구함. \n",
    "    all_pay = prev['AMT_ANNUITY'] * prev['CNT_PAYMENT']\n",
    "    # 전체 납부 금액 대비 AMT_CREDIT 비율을 구하고 여기에 다시 납부횟수로 나누어서 이자율 계산. \n",
    "    prev['PREV_INTERESTS_RATE'] = (all_pay/prev['AMT_CREDIT'] - 1)/prev['CNT_PAYMENT']\n",
    "        \n",
    "    return prev\n",
    "    \n",
    "    \n",
    "def get_prev_amt_agg(prev):\n",
    "    # 새롭게 생성된 대출 신청액 대비 다른 금액 차이 및 비율로 aggregation 수행. \n",
    "    agg_dict = {\n",
    "         # 기존 컬럼. \n",
    "        'SK_ID_CURR':['count'],\n",
    "        'AMT_CREDIT':['mean', 'max', 'sum'],\n",
    "        'AMT_ANNUITY':['mean', 'max', 'sum'], \n",
    "        'AMT_APPLICATION':['mean', 'max', 'sum'],\n",
    "        'AMT_DOWN_PAYMENT':['mean', 'max', 'sum'],\n",
    "        'AMT_GOODS_PRICE':['mean', 'max', 'sum'],\n",
    "        'RATE_DOWN_PAYMENT': ['min', 'max', 'mean'],\n",
    "        'DAYS_DECISION': ['min', 'max', 'mean'],\n",
    "        'CNT_PAYMENT': ['mean', 'sum'],\n",
    "        # 가공 컬럼\n",
    "        'PREV_CREDIT_DIFF':['mean', 'max', 'sum'], \n",
    "        'PREV_CREDIT_APPL_RATIO':['mean', 'max'],\n",
    "        'PREV_GOODS_DIFF':['mean', 'max', 'sum'],\n",
    "        'PREV_GOODS_APPL_RATIO':['mean', 'max'],\n",
    "        'PREV_DAYS_LAST_DUE_DIFF':['mean', 'max', 'sum'],\n",
    "        'PREV_INTERESTS_RATE':['mean', 'max']\n",
    "    }\n",
    "\n",
    "    prev_group = prev.groupby('SK_ID_CURR')\n",
    "    prev_amt_agg = prev_group.agg(agg_dict)\n",
    "\n",
    "    # multi index 컬럼을 '_'로 연결하여 컬럼명 변경\n",
    "    prev_amt_agg.columns = [\"PREV_\"+ \"_\".join(x).upper() for x in prev_amt_agg.columns.ravel()]\n",
    "    \n",
    "    return prev_amt_agg\n",
    "\n",
    "def get_prev_refused_appr_agg(prev):\n",
    "    # 원래 groupby 컬럼 + 세부 기준 컬럼으로 groupby 수행. 세분화된 레벨로 aggregation 수행 한 뒤에 unstack()으로 컬럼레벨로 변형. \n",
    "    prev_refused_appr_group = prev[prev['NAME_CONTRACT_STATUS'].isin(['Approved', 'Refused'])].groupby([ 'SK_ID_CURR', 'NAME_CONTRACT_STATUS'])\n",
    "    prev_refused_appr_agg = prev_refused_appr_group['SK_ID_CURR'].count().unstack()\n",
    "    # 컬럼명 변경. \n",
    "    prev_refused_appr_agg.columns = ['PREV_APPROVED_COUNT', 'PREV_REFUSED_COUNT' ]\n",
    "    # NaN값은 모두 0으로 변경. \n",
    "    prev_refused_appr_agg = prev_refused_appr_agg.fillna(0)\n",
    "    \n",
    "    return prev_refused_appr_agg\n",
    "\n",
    "    \n",
    "\n",
    "def get_prev_agg(prev):\n",
    "    prev = get_prev_processed(prev)\n",
    "    prev_amt_agg = get_prev_amt_agg(prev)\n",
    "    prev_refused_appr_agg = get_prev_refused_appr_agg(prev)\n",
    "    \n",
    "    # prev_amt_agg와 조인. \n",
    "    prev_agg = prev_amt_agg.merge(prev_refused_appr_agg, on='SK_ID_CURR', how='left')\n",
    "    # SK_ID_CURR별 과거 대출건수 대비 APPROVED_COUNT 및 REFUSED_COUNT 비율 생성. \n",
    "    prev_agg['PREV_REFUSED_RATIO'] = prev_agg['PREV_REFUSED_COUNT']/prev_agg['PREV_SK_ID_CURR_COUNT']\n",
    "    prev_agg['PREV_APPROVED_RATIO'] = prev_agg['PREV_APPROVED_COUNT']/prev_agg['PREV_SK_ID_CURR_COUNT']\n",
    "    # 'PREV_REFUSED_COUNT', 'PREV_APPROVED_COUNT' 컬럼 drop \n",
    "    prev_agg = prev_agg.drop(['PREV_REFUSED_COUNT', 'PREV_APPROVED_COUNT'], axis=1)\n",
    "    \n",
    "    return prev_agg\n",
    "\n",
    "def get_apps_all_with_prev_agg(apps, prev):\n",
    "    apps_all =  get_apps_processed(apps)\n",
    "    prev_agg = get_prev_agg(prev)\n",
    "    print('prev_agg shape:', prev_agg.shape)\n",
    "    print('apps_all before merge shape:', apps_all.shape)\n",
    "    apps_all = apps_all.merge(prev_agg, on='SK_ID_CURR', how='left')\n",
    "    print('apps_all after merge with prev_agg shape:', apps_all.shape)\n",
    "    \n",
    "    return apps_all\n",
    "\n",
    "def get_apps_all_encoded(apps_all):\n",
    "    object_columns = apps_all.dtypes[apps_all.dtypes == 'object'].index.tolist()\n",
    "    for column in object_columns:\n",
    "        apps_all[column] = pd.factorize(apps_all[column])[0]\n",
    "    \n",
    "    return apps_all\n",
    "\n",
    "def get_apps_all_train_test(apps_all):\n",
    "    apps_all_train = apps_all[~apps_all['TARGET'].isnull()]\n",
    "    apps_all_test = apps_all[apps_all['TARGET'].isnull()]\n",
    "\n",
    "    apps_all_test = apps_all_test.drop('TARGET', axis=1)\n",
    "    \n",
    "    return apps_all_train, apps_all_test\n",
    "    \n",
    "def train_apps_all(apps_all_train):\n",
    "    ftr_app = apps_all_train.drop(['SK_ID_CURR', 'TARGET'], axis=1)\n",
    "    target_app = apps_all_train['TARGET']\n",
    "\n",
    "    train_x, valid_x, train_y, valid_y = train_test_split(ftr_app, target_app, test_size=0.3, random_state=2020)\n",
    "    print('train shape:', train_x.shape, 'valid shape:', valid_x.shape)\n",
    "    clf = LGBMClassifier(\n",
    "                nthread=4,\n",
    "                n_estimators=2000,\n",
    "                learning_rate=0.01,\n",
    "                num_leaves=32,\n",
    "                colsample_bytree=0.8,\n",
    "                subsample=0.8,\n",
    "                max_depth=8,\n",
    "                reg_alpha=0.04,\n",
    "                reg_lambda=0.07,\n",
    "                min_child_weight=40,\n",
    "                silent=-1,\n",
    "                verbose=-1,\n",
    "                )\n",
    "\n",
    "    clf.fit(train_x, train_y, eval_set=[(train_x, train_y), (valid_x, valid_y)], eval_metric= 'auc', verbose= 100, \n",
    "                early_stopping_rounds= 100)\n",
    "    \n",
    "    return clf"
   ]
  },
  {
   "cell_type": "markdown",
   "metadata": {
    "colab_type": "text",
    "id": "nqqmKKhrvR4w"
   },
   "source": [
    "##### 최종 집합 생성 및 인코딩, 학습/테스트 데이터 분리, 학습/검증 피처와 타겟 데이터 분리"
   ]
  },
  {
   "cell_type": "code",
   "execution_count": 5,
   "metadata": {
    "colab": {
     "base_uri": "https://localhost:8080/",
     "height": 74
    },
    "colab_type": "code",
    "executionInfo": {
     "elapsed": 9499,
     "status": "ok",
     "timestamp": 1599720328172,
     "user": {
      "displayName": "권철민",
      "photoUrl": "",
      "userId": "03917677622451543916"
     },
     "user_tz": -540
    },
    "id": "-vsBLQ8FvR4x",
    "outputId": "16575155-27fa-4510-bbb5-7bfe7144f19a"
   },
   "outputs": [
    {
     "name": "stdout",
     "output_type": "stream",
     "text": [
      "prev_agg shape: (338857, 41)\n",
      "apps_all before merge shape: (356255, 135)\n",
      "apps_all after merge with prev_agg shape: (356255, 176)\n"
     ]
    }
   ],
   "source": [
    "apps_all = get_apps_all_with_prev_agg(apps, prev)\n",
    "apps_all = get_apps_all_encoded(apps_all)\n",
    "apps_all_train, apps_all_test = get_apps_all_train_test(apps_all)\n",
    "ftr_app = apps_all_train.drop(['SK_ID_CURR', 'TARGET'], axis=1)\n",
    "target_app = apps_all_train['TARGET']\n",
    "train_x, valid_x, train_y, valid_y = train_test_split(ftr_app, target_app, test_size=0.3, random_state=2020)\n"
   ]
  },
  {
   "cell_type": "markdown",
   "metadata": {
    "colab_type": "text",
    "id": "DEOB24lVvR47"
   },
   "source": [
    "#### Bayesian Optimization "
   ]
  },
  {
   "cell_type": "code",
   "execution_count": null,
   "metadata": {
    "colab": {
     "base_uri": "https://localhost:8080/",
     "height": 282
    },
    "colab_type": "code",
    "executionInfo": {
     "elapsed": 5630,
     "status": "ok",
     "timestamp": 1599720420983,
     "user": {
      "displayName": "권철민",
      "photoUrl": "",
      "userId": "03917677622451543916"
     },
     "user_tz": -540
    },
    "id": "MDf92dTOw0rR",
    "outputId": "fbf92f64-95cc-4fed-b03e-def2cc61f2ca"
   },
   "outputs": [],
   "source": [
    "# bayesian optimization 패키지 설치\n",
    "!pip install bayesian-optimization"
   ]
  },
  {
   "cell_type": "code",
   "execution_count": 6,
   "metadata": {
    "colab": {},
    "colab_type": "code",
    "executionInfo": {
     "elapsed": 920,
     "status": "ok",
     "timestamp": 1599720449726,
     "user": {
      "displayName": "권철민",
      "photoUrl": "",
      "userId": "03917677622451543916"
     },
     "user_tz": -540
    },
    "id": "MDQVRZeRvR48"
   },
   "outputs": [],
   "source": [
    "from bayes_opt import BayesianOptimization\n",
    "from sklearn.metrics import roc_auc_score\n",
    "from lightgbm import LGBMClassifier"
   ]
  },
  {
   "cell_type": "markdown",
   "metadata": {
    "colab_type": "text",
    "id": "dDmrYrAUvR5B"
   },
   "source": [
    "##### 함수의 입력값 search 범위(하이퍼 파라미터 별 입력 범위) 를 설정"
   ]
  },
  {
   "cell_type": "code",
   "execution_count": 7,
   "metadata": {
    "colab": {},
    "colab_type": "code",
    "executionInfo": {
     "elapsed": 952,
     "status": "ok",
     "timestamp": 1599720455966,
     "user": {
      "displayName": "권철민",
      "photoUrl": "",
      "userId": "03917677622451543916"
     },
     "user_tz": -540
    },
    "id": "NrIZzOHbvR5C"
   },
   "outputs": [],
   "source": [
    "# parameter 별로 search할 범위를 설정. \n",
    "bayesian_params = {\n",
    "    'max_depth': (6, 16), \n",
    "    'num_leaves': (24, 64), \n",
    "    'min_child_samples': (10, 200), \n",
    "    'min_child_weight':(1, 50),\n",
    "    'subsample':(0.5, 1.0),\n",
    "    'colsample_bytree': (0.5, 1.0),\n",
    "    'max_bin':(10, 500),\n",
    "    'reg_lambda':(0.001, 10),\n",
    "    'reg_alpha': (0.01, 50) \n",
    "}"
   ]
  },
  {
   "cell_type": "markdown",
   "metadata": {
    "colab_type": "text",
    "id": "yog23y34vR5H"
   },
   "source": [
    "##### 최대 값을 구할 함수 선언. \n",
    "* iteration 시 마다 hyperparameter를 입력받아 classifier 학습하고 roc_auc_score값을 반환 "
   ]
  },
  {
   "cell_type": "code",
   "execution_count": 8,
   "metadata": {
    "colab": {},
    "colab_type": "code",
    "executionInfo": {
     "elapsed": 977,
     "status": "ok",
     "timestamp": 1599720458353,
     "user": {
      "displayName": "권철민",
      "photoUrl": "",
      "userId": "03917677622451543916"
     },
     "user_tz": -540
    },
    "id": "YduL1j4RvR5J"
   },
   "outputs": [],
   "source": [
    "def lgb_roc_eval(max_depth, num_leaves, min_child_samples, min_child_weight, subsample, \n",
    "                colsample_bytree,max_bin, reg_lambda, reg_alpha):\n",
    "    params = {\n",
    "        \"n_estimators\":500, \"learning_rate\":0.02,\n",
    "        'max_depth': int(round(max_depth)), #  호출 시 실수형 값이 들어오므로 정수형 하이퍼 파라미터는 정수형으로 변경 \n",
    "        'num_leaves': int(round(num_leaves)), \n",
    "        'min_child_samples': int(round(min_child_samples)),\n",
    "        'min_child_weight': int(round(min_child_weight)),\n",
    "        'subsample': max(min(subsample, 1), 0), \n",
    "        'colsample_bytree': max(min(colsample_bytree, 1), 0),\n",
    "        'max_bin':  max(int(round(max_bin)),10),\n",
    "        'reg_lambda': max(reg_lambda,0),\n",
    "        'reg_alpha': max(reg_alpha, 0)\n",
    "    }\n",
    "    lgb_model = LGBMClassifier(**params)\n",
    "    lgb_model.fit(train_x, train_y, eval_set=[(train_x, train_y), (valid_x, valid_y)], eval_metric= 'auc', verbose= 100, \n",
    "                early_stopping_rounds= 100)\n",
    "    valid_proba = lgb_model.predict_proba(valid_x)[:, 1]\n",
    "    roc_auc = roc_auc_score(valid_y, valid_proba)\n",
    "    \n",
    "    return roc_auc   "
   ]
  },
  {
   "cell_type": "markdown",
   "metadata": {
    "colab_type": "text",
    "id": "cmnQwMudvR5Q"
   },
   "source": [
    "##### BayesianOptimization 객체 생성 후 함수 반환값이 최대가 되는 입력값 search를 위한 iteration 수행"
   ]
  },
  {
   "cell_type": "code",
   "execution_count": 9,
   "metadata": {
    "colab": {
     "base_uri": "https://localhost:8080/",
     "height": 1000
    },
    "colab_type": "code",
    "executionInfo": {
     "elapsed": 4357438,
     "status": "ok",
     "timestamp": 1599724818024,
     "user": {
      "displayName": "권철민",
      "photoUrl": "",
      "userId": "03917677622451543916"
     },
     "user_tz": -540
    },
    "id": "Vcny5qJrvR5R",
    "outputId": "4f6708e1-b153-40c8-a0e7-98880aea2310",
    "scrolled": true
   },
   "outputs": [
    {
     "name": "stdout",
     "output_type": "stream",
     "text": [
      "|   iter    |  target   | colsam... |  max_bin  | max_depth | min_ch... | min_ch... | num_le... | reg_alpha | reg_la... | subsample |\n",
      "-------------------------------------------------------------------------------------------------------------------------------------\n",
      "Training until validation scores don't improve for 100 rounds\n",
      "[100]\ttraining's auc: 0.769662\ttraining's binary_logloss: 0.246032\tvalid_1's auc: 0.755483\tvalid_1's binary_logloss: 0.248917\n",
      "[200]\ttraining's auc: 0.787253\ttraining's binary_logloss: 0.238487\tvalid_1's auc: 0.766224\tvalid_1's binary_logloss: 0.244243\n",
      "[300]\ttraining's auc: 0.798898\ttraining's binary_logloss: 0.23398\tvalid_1's auc: 0.771467\tvalid_1's binary_logloss: 0.242344\n",
      "[400]\ttraining's auc: 0.807869\ttraining's binary_logloss: 0.23065\tvalid_1's auc: 0.773972\tvalid_1's binary_logloss: 0.241458\n",
      "[500]\ttraining's auc: 0.815952\ttraining's binary_logloss: 0.227669\tvalid_1's auc: 0.775806\tvalid_1's binary_logloss: 0.240831\n",
      "Did not meet early stopping. Best iteration is:\n",
      "[500]\ttraining's auc: 0.815952\ttraining's binary_logloss: 0.227669\tvalid_1's auc: 0.775806\tvalid_1's binary_logloss: 0.240831\n",
      "| \u001b[0m 1       \u001b[0m | \u001b[0m 0.7758  \u001b[0m | \u001b[0m 0.7744  \u001b[0m | \u001b[0m 360.4   \u001b[0m | \u001b[0m 12.03   \u001b[0m | \u001b[0m 113.5   \u001b[0m | \u001b[0m 21.76   \u001b[0m | \u001b[0m 49.84   \u001b[0m | \u001b[0m 21.88   \u001b[0m | \u001b[0m 8.918   \u001b[0m | \u001b[0m 0.9818  \u001b[0m |\n",
      "Training until validation scores don't improve for 100 rounds\n",
      "[100]\ttraining's auc: 0.76256\ttraining's binary_logloss: 0.247457\tvalid_1's auc: 0.7537\tvalid_1's binary_logloss: 0.249099\n",
      "[200]\ttraining's auc: 0.780205\ttraining's binary_logloss: 0.24047\tvalid_1's auc: 0.765756\tvalid_1's binary_logloss: 0.244226\n",
      "[300]\ttraining's auc: 0.79096\ttraining's binary_logloss: 0.236494\tvalid_1's auc: 0.771277\tvalid_1's binary_logloss: 0.242257\n",
      "[400]\ttraining's auc: 0.799189\ttraining's binary_logloss: 0.233539\tvalid_1's auc: 0.774083\tvalid_1's binary_logloss: 0.241244\n",
      "[500]\ttraining's auc: 0.806102\ttraining's binary_logloss: 0.231049\tvalid_1's auc: 0.775791\tvalid_1's binary_logloss: 0.240642\n",
      "Did not meet early stopping. Best iteration is:\n",
      "[500]\ttraining's auc: 0.806102\ttraining's binary_logloss: 0.231049\tvalid_1's auc: 0.775791\tvalid_1's binary_logloss: 0.240642\n",
      "| \u001b[0m 2       \u001b[0m | \u001b[0m 0.7758  \u001b[0m | \u001b[0m 0.6917  \u001b[0m | \u001b[0m 397.9   \u001b[0m | \u001b[0m 11.29   \u001b[0m | \u001b[0m 117.9   \u001b[0m | \u001b[0m 46.35   \u001b[0m | \u001b[0m 26.84   \u001b[0m | \u001b[0m 4.366   \u001b[0m | \u001b[0m 0.2032  \u001b[0m | \u001b[0m 0.9163  \u001b[0m |\n",
      "Training until validation scores don't improve for 100 rounds\n",
      "[100]\ttraining's auc: 0.775644\ttraining's binary_logloss: 0.243872\tvalid_1's auc: 0.757262\tvalid_1's binary_logloss: 0.247984\n",
      "[200]\ttraining's auc: 0.796903\ttraining's binary_logloss: 0.235046\tvalid_1's auc: 0.768757\tvalid_1's binary_logloss: 0.243207\n",
      "[300]\ttraining's auc: 0.812041\ttraining's binary_logloss: 0.229261\tvalid_1's auc: 0.773366\tvalid_1's binary_logloss: 0.24156\n",
      "[400]\ttraining's auc: 0.824984\ttraining's binary_logloss: 0.224423\tvalid_1's auc: 0.776251\tvalid_1's binary_logloss: 0.240565\n",
      "[500]\ttraining's auc: 0.835704\ttraining's binary_logloss: 0.220372\tvalid_1's auc: 0.777178\tvalid_1's binary_logloss: 0.24019\n",
      "Did not meet early stopping. Best iteration is:\n",
      "[500]\ttraining's auc: 0.835704\ttraining's binary_logloss: 0.220372\tvalid_1's auc: 0.777178\tvalid_1's binary_logloss: 0.24019\n",
      "| \u001b[95m 3       \u001b[0m | \u001b[95m 0.7772  \u001b[0m | \u001b[95m 0.8891  \u001b[0m | \u001b[95m 436.3   \u001b[0m | \u001b[95m 15.79   \u001b[0m | \u001b[95m 161.8   \u001b[0m | \u001b[95m 23.61   \u001b[0m | \u001b[95m 55.22   \u001b[0m | \u001b[95m 5.923   \u001b[0m | \u001b[95m 6.4     \u001b[0m | \u001b[95m 0.5717  \u001b[0m |\n",
      "Training until validation scores don't improve for 100 rounds\n",
      "[100]\ttraining's auc: 0.765842\ttraining's binary_logloss: 0.246884\tvalid_1's auc: 0.753808\tvalid_1's binary_logloss: 0.249258\n",
      "[200]\ttraining's auc: 0.783137\ttraining's binary_logloss: 0.239739\tvalid_1's auc: 0.765526\tvalid_1's binary_logloss: 0.244489\n",
      "[300]\ttraining's auc: 0.793648\ttraining's binary_logloss: 0.23577\tvalid_1's auc: 0.770579\tvalid_1's binary_logloss: 0.242643\n",
      "[400]\ttraining's auc: 0.801582\ttraining's binary_logloss: 0.232812\tvalid_1's auc: 0.773253\tvalid_1's binary_logloss: 0.241685\n",
      "[500]\ttraining's auc: 0.808241\ttraining's binary_logloss: 0.23036\tvalid_1's auc: 0.774833\tvalid_1's binary_logloss: 0.241128\n",
      "Did not meet early stopping. Best iteration is:\n",
      "[500]\ttraining's auc: 0.808241\ttraining's binary_logloss: 0.23036\tvalid_1's auc: 0.774833\tvalid_1's binary_logloss: 0.241128\n",
      "| \u001b[0m 4       \u001b[0m | \u001b[0m 0.7748  \u001b[0m | \u001b[0m 0.9723  \u001b[0m | \u001b[0m 265.7   \u001b[0m | \u001b[0m 10.15   \u001b[0m | \u001b[0m 60.27   \u001b[0m | \u001b[0m 38.94   \u001b[0m | \u001b[0m 42.25   \u001b[0m | \u001b[0m 28.43   \u001b[0m | \u001b[0m 0.1889  \u001b[0m | \u001b[0m 0.8088  \u001b[0m |\n",
      "Training until validation scores don't improve for 100 rounds\n",
      "[100]\ttraining's auc: 0.7659\ttraining's binary_logloss: 0.247276\tvalid_1's auc: 0.753968\tvalid_1's binary_logloss: 0.24956\n",
      "[200]\ttraining's auc: 0.781741\ttraining's binary_logloss: 0.240327\tvalid_1's auc: 0.764668\tvalid_1's binary_logloss: 0.244831\n",
      "[300]\ttraining's auc: 0.791758\ttraining's binary_logloss: 0.236503\tvalid_1's auc: 0.769722\tvalid_1's binary_logloss: 0.242955\n",
      "[400]\ttraining's auc: 0.799313\ttraining's binary_logloss: 0.233722\tvalid_1's auc: 0.772473\tvalid_1's binary_logloss: 0.241976\n",
      "[500]\ttraining's auc: 0.805605\ttraining's binary_logloss: 0.231421\tvalid_1's auc: 0.774035\tvalid_1's binary_logloss: 0.241428\n",
      "Did not meet early stopping. Best iteration is:\n",
      "[500]\ttraining's auc: 0.805605\ttraining's binary_logloss: 0.231421\tvalid_1's auc: 0.774035\tvalid_1's binary_logloss: 0.241428\n",
      "| \u001b[0m 5       \u001b[0m | \u001b[0m 0.774   \u001b[0m | \u001b[0m 0.806   \u001b[0m | \u001b[0m 312.3   \u001b[0m | \u001b[0m 15.44   \u001b[0m | \u001b[0m 139.5   \u001b[0m | \u001b[0m 18.62   \u001b[0m | \u001b[0m 41.48   \u001b[0m | \u001b[0m 34.88   \u001b[0m | \u001b[0m 0.6032  \u001b[0m | \u001b[0m 0.8334  \u001b[0m |\n",
      "Training until validation scores don't improve for 100 rounds\n",
      "[100]\ttraining's auc: 0.778416\ttraining's binary_logloss: 0.243866\tvalid_1's auc: 0.758906\tvalid_1's binary_logloss: 0.248045\n",
      "[200]\ttraining's auc: 0.797547\ttraining's binary_logloss: 0.235078\tvalid_1's auc: 0.768769\tvalid_1's binary_logloss: 0.243239\n",
      "[300]\ttraining's auc: 0.812388\ttraining's binary_logloss: 0.229334\tvalid_1's auc: 0.773393\tvalid_1's binary_logloss: 0.241516\n",
      "[400]\ttraining's auc: 0.824856\ttraining's binary_logloss: 0.224602\tvalid_1's auc: 0.77606\tvalid_1's binary_logloss: 0.240581\n",
      "[500]\ttraining's auc: 0.835757\ttraining's binary_logloss: 0.220492\tvalid_1's auc: 0.777391\tvalid_1's binary_logloss: 0.240112\n",
      "Did not meet early stopping. Best iteration is:\n",
      "[500]\ttraining's auc: 0.835757\ttraining's binary_logloss: 0.220492\tvalid_1's auc: 0.777391\tvalid_1's binary_logloss: 0.240112\n",
      "| \u001b[95m 6       \u001b[0m | \u001b[95m 0.7774  \u001b[0m | \u001b[95m 0.6405  \u001b[0m | \u001b[95m 435.0   \u001b[0m | \u001b[95m 13.5    \u001b[0m | \u001b[95m 169.3   \u001b[0m | \u001b[95m 26.92   \u001b[0m | \u001b[95m 57.69   \u001b[0m | \u001b[95m 5.768   \u001b[0m | \u001b[95m 9.196   \u001b[0m | \u001b[95m 0.613   \u001b[0m |\n",
      "Training until validation scores don't improve for 100 rounds\n",
      "[100]\ttraining's auc: 0.772281\ttraining's binary_logloss: 0.246014\tvalid_1's auc: 0.756518\tvalid_1's binary_logloss: 0.249054\n",
      "[200]\ttraining's auc: 0.789124\ttraining's binary_logloss: 0.238224\tvalid_1's auc: 0.766602\tvalid_1's binary_logloss: 0.244218\n",
      "[300]\ttraining's auc: 0.800463\ttraining's binary_logloss: 0.233735\tvalid_1's auc: 0.771115\tvalid_1's binary_logloss: 0.242475\n",
      "[400]\ttraining's auc: 0.809924\ttraining's binary_logloss: 0.230144\tvalid_1's auc: 0.774036\tvalid_1's binary_logloss: 0.241453\n",
      "[500]\ttraining's auc: 0.81804\ttraining's binary_logloss: 0.227105\tvalid_1's auc: 0.775536\tvalid_1's binary_logloss: 0.240903\n",
      "Did not meet early stopping. Best iteration is:\n",
      "[500]\ttraining's auc: 0.81804\ttraining's binary_logloss: 0.227105\tvalid_1's auc: 0.775536\tvalid_1's binary_logloss: 0.240903\n",
      "| \u001b[0m 7       \u001b[0m | \u001b[0m 0.7755  \u001b[0m | \u001b[0m 0.6778  \u001b[0m | \u001b[0m 477.2   \u001b[0m | \u001b[0m 11.75   \u001b[0m | \u001b[0m 194.9   \u001b[0m | \u001b[0m 46.85   \u001b[0m | \u001b[0m 59.47   \u001b[0m | \u001b[0m 26.32   \u001b[0m | \u001b[0m 8.388   \u001b[0m | \u001b[0m 0.7753  \u001b[0m |\n",
      "Training until validation scores don't improve for 100 rounds\n",
      "[100]\ttraining's auc: 0.777583\ttraining's binary_logloss: 0.243725\tvalid_1's auc: 0.758288\tvalid_1's binary_logloss: 0.247968\n",
      "[200]\ttraining's auc: 0.797949\ttraining's binary_logloss: 0.234844\tvalid_1's auc: 0.768779\tvalid_1's binary_logloss: 0.24323\n"
     ]
    },
    {
     "name": "stdout",
     "output_type": "stream",
     "text": [
      "[300]\ttraining's auc: 0.812857\ttraining's binary_logloss: 0.229109\tvalid_1's auc: 0.773238\tvalid_1's binary_logloss: 0.241582\n",
      "[400]\ttraining's auc: 0.825851\ttraining's binary_logloss: 0.22425\tvalid_1's auc: 0.776055\tvalid_1's binary_logloss: 0.240619\n",
      "[500]\ttraining's auc: 0.836858\ttraining's binary_logloss: 0.220087\tvalid_1's auc: 0.777214\tvalid_1's binary_logloss: 0.240157\n",
      "Did not meet early stopping. Best iteration is:\n",
      "[500]\ttraining's auc: 0.836858\ttraining's binary_logloss: 0.220087\tvalid_1's auc: 0.777214\tvalid_1's binary_logloss: 0.240157\n",
      "| \u001b[0m 8       \u001b[0m | \u001b[0m 0.7772  \u001b[0m | \u001b[0m 0.7374  \u001b[0m | \u001b[0m 408.1   \u001b[0m | \u001b[0m 12.84   \u001b[0m | \u001b[0m 197.6   \u001b[0m | \u001b[0m 5.693   \u001b[0m | \u001b[0m 57.73   \u001b[0m | \u001b[0m 6.171   \u001b[0m | \u001b[0m 8.007   \u001b[0m | \u001b[0m 0.6427  \u001b[0m |\n",
      "Training until validation scores don't improve for 100 rounds\n",
      "[100]\ttraining's auc: 0.776884\ttraining's binary_logloss: 0.244363\tvalid_1's auc: 0.757931\tvalid_1's binary_logloss: 0.248329\n",
      "[200]\ttraining's auc: 0.795476\ttraining's binary_logloss: 0.235896\tvalid_1's auc: 0.767942\tvalid_1's binary_logloss: 0.243577\n",
      "[300]\ttraining's auc: 0.809275\ttraining's binary_logloss: 0.230547\tvalid_1's auc: 0.77254\tvalid_1's binary_logloss: 0.241869\n",
      "[400]\ttraining's auc: 0.82066\ttraining's binary_logloss: 0.226218\tvalid_1's auc: 0.774854\tvalid_1's binary_logloss: 0.241044\n",
      "[500]\ttraining's auc: 0.830938\ttraining's binary_logloss: 0.222269\tvalid_1's auc: 0.776395\tvalid_1's binary_logloss: 0.240484\n",
      "Did not meet early stopping. Best iteration is:\n",
      "[500]\ttraining's auc: 0.830938\ttraining's binary_logloss: 0.222269\tvalid_1's auc: 0.776395\tvalid_1's binary_logloss: 0.240484\n",
      "| \u001b[0m 9       \u001b[0m | \u001b[0m 0.7764  \u001b[0m | \u001b[0m 0.7749  \u001b[0m | \u001b[0m 388.9   \u001b[0m | \u001b[0m 14.3    \u001b[0m | \u001b[0m 193.9   \u001b[0m | \u001b[0m 49.91   \u001b[0m | \u001b[0m 62.85   \u001b[0m | \u001b[0m 13.15   \u001b[0m | \u001b[0m 9.906   \u001b[0m | \u001b[0m 0.6812  \u001b[0m |\n",
      "Training until validation scores don't improve for 100 rounds\n",
      "[100]\ttraining's auc: 0.764203\ttraining's binary_logloss: 0.247826\tvalid_1's auc: 0.752311\tvalid_1's binary_logloss: 0.249919\n",
      "[200]\ttraining's auc: 0.779974\ttraining's binary_logloss: 0.241103\tvalid_1's auc: 0.763794\tvalid_1's binary_logloss: 0.245126\n",
      "[300]\ttraining's auc: 0.789033\ttraining's binary_logloss: 0.237594\tvalid_1's auc: 0.768866\tvalid_1's binary_logloss: 0.243267\n",
      "[400]\ttraining's auc: 0.795627\ttraining's binary_logloss: 0.235115\tvalid_1's auc: 0.771779\tvalid_1's binary_logloss: 0.242221\n",
      "[500]\ttraining's auc: 0.800884\ttraining's binary_logloss: 0.233158\tvalid_1's auc: 0.773414\tvalid_1's binary_logloss: 0.241632\n",
      "Did not meet early stopping. Best iteration is:\n",
      "[500]\ttraining's auc: 0.800884\ttraining's binary_logloss: 0.233158\tvalid_1's auc: 0.773414\tvalid_1's binary_logloss: 0.241632\n",
      "| \u001b[0m 10      \u001b[0m | \u001b[0m 0.7734  \u001b[0m | \u001b[0m 0.9461  \u001b[0m | \u001b[0m 421.7   \u001b[0m | \u001b[0m 6.672   \u001b[0m | \u001b[0m 189.9   \u001b[0m | \u001b[0m 10.04   \u001b[0m | \u001b[0m 47.84   \u001b[0m | \u001b[0m 46.75   \u001b[0m | \u001b[0m 9.148   \u001b[0m | \u001b[0m 0.7801  \u001b[0m |\n",
      "Training until validation scores don't improve for 100 rounds\n",
      "[100]\ttraining's auc: 0.764174\ttraining's binary_logloss: 0.248029\tvalid_1's auc: 0.755162\tvalid_1's binary_logloss: 0.249577\n",
      "[200]\ttraining's auc: 0.778767\ttraining's binary_logloss: 0.241173\tvalid_1's auc: 0.765754\tvalid_1's binary_logloss: 0.244443\n",
      "[300]\ttraining's auc: 0.788759\ttraining's binary_logloss: 0.237386\tvalid_1's auc: 0.771036\tvalid_1's binary_logloss: 0.242441\n",
      "[400]\ttraining's auc: 0.795987\ttraining's binary_logloss: 0.234694\tvalid_1's auc: 0.773675\tvalid_1's binary_logloss: 0.241458\n",
      "[500]\ttraining's auc: 0.80232\ttraining's binary_logloss: 0.232393\tvalid_1's auc: 0.775601\tvalid_1's binary_logloss: 0.240772\n",
      "Did not meet early stopping. Best iteration is:\n",
      "[500]\ttraining's auc: 0.80232\ttraining's binary_logloss: 0.232393\tvalid_1's auc: 0.775601\tvalid_1's binary_logloss: 0.240772\n",
      "| \u001b[0m 11      \u001b[0m | \u001b[0m 0.7756  \u001b[0m | \u001b[0m 0.5017  \u001b[0m | \u001b[0m 393.7   \u001b[0m | \u001b[0m 10.71   \u001b[0m | \u001b[0m 119.0   \u001b[0m | \u001b[0m 45.57   \u001b[0m | \u001b[0m 28.2    \u001b[0m | \u001b[0m 10.95   \u001b[0m | \u001b[0m 4.662   \u001b[0m | \u001b[0m 0.9552  \u001b[0m |\n",
      "Training until validation scores don't improve for 100 rounds\n",
      "[100]\ttraining's auc: 0.778162\ttraining's binary_logloss: 0.243432\tvalid_1's auc: 0.759238\tvalid_1's binary_logloss: 0.247741\n",
      "[200]\ttraining's auc: 0.799162\ttraining's binary_logloss: 0.234309\tvalid_1's auc: 0.769473\tvalid_1's binary_logloss: 0.24293\n",
      "[300]\ttraining's auc: 0.814812\ttraining's binary_logloss: 0.228328\tvalid_1's auc: 0.773682\tvalid_1's binary_logloss: 0.241344\n",
      "[400]\ttraining's auc: 0.827839\ttraining's binary_logloss: 0.223397\tvalid_1's auc: 0.776065\tvalid_1's binary_logloss: 0.240505\n",
      "[500]\ttraining's auc: 0.838855\ttraining's binary_logloss: 0.219213\tvalid_1's auc: 0.777105\tvalid_1's binary_logloss: 0.240137\n",
      "Did not meet early stopping. Best iteration is:\n",
      "[500]\ttraining's auc: 0.838855\ttraining's binary_logloss: 0.219213\tvalid_1's auc: 0.777105\tvalid_1's binary_logloss: 0.240137\n",
      "| \u001b[0m 12      \u001b[0m | \u001b[0m 0.7771  \u001b[0m | \u001b[0m 0.6423  \u001b[0m | \u001b[0m 400.8   \u001b[0m | \u001b[0m 13.13   \u001b[0m | \u001b[0m 174.5   \u001b[0m | \u001b[0m 22.2    \u001b[0m | \u001b[0m 53.42   \u001b[0m | \u001b[0m 0.8135  \u001b[0m | \u001b[0m 3.857   \u001b[0m | \u001b[0m 0.603   \u001b[0m |\n",
      "Training until validation scores don't improve for 100 rounds\n",
      "[100]\ttraining's auc: 0.777272\ttraining's binary_logloss: 0.243367\tvalid_1's auc: 0.759082\tvalid_1's binary_logloss: 0.247643\n",
      "[200]\ttraining's auc: 0.7988\ttraining's binary_logloss: 0.234288\tvalid_1's auc: 0.769727\tvalid_1's binary_logloss: 0.24285\n",
      "[300]\ttraining's auc: 0.814442\ttraining's binary_logloss: 0.228368\tvalid_1's auc: 0.773843\tvalid_1's binary_logloss: 0.241303\n",
      "[400]\ttraining's auc: 0.827084\ttraining's binary_logloss: 0.223525\tvalid_1's auc: 0.776152\tvalid_1's binary_logloss: 0.240502\n",
      "[500]\ttraining's auc: 0.838169\ttraining's binary_logloss: 0.219393\tvalid_1's auc: 0.777237\tvalid_1's binary_logloss: 0.240146\n",
      "Did not meet early stopping. Best iteration is:\n",
      "[500]\ttraining's auc: 0.838169\ttraining's binary_logloss: 0.219393\tvalid_1's auc: 0.777237\tvalid_1's binary_logloss: 0.240146\n",
      "| \u001b[0m 13      \u001b[0m | \u001b[0m 0.7772  \u001b[0m | \u001b[0m 0.6969  \u001b[0m | \u001b[0m 388.8   \u001b[0m | \u001b[0m 13.69   \u001b[0m | \u001b[0m 178.8   \u001b[0m | \u001b[0m 26.23   \u001b[0m | \u001b[0m 50.31   \u001b[0m | \u001b[0m 0.1285  \u001b[0m | \u001b[0m 1.032   \u001b[0m | \u001b[0m 0.8563  \u001b[0m |\n",
      "Training until validation scores don't improve for 100 rounds\n",
      "[100]\ttraining's auc: 0.777861\ttraining's binary_logloss: 0.242936\tvalid_1's auc: 0.757958\tvalid_1's binary_logloss: 0.247557\n",
      "[200]\ttraining's auc: 0.801461\ttraining's binary_logloss: 0.233442\tvalid_1's auc: 0.769359\tvalid_1's binary_logloss: 0.242945\n",
      "[300]\ttraining's auc: 0.818486\ttraining's binary_logloss: 0.226978\tvalid_1's auc: 0.77388\tvalid_1's binary_logloss: 0.241346\n",
      "[400]\ttraining's auc: 0.832854\ttraining's binary_logloss: 0.221651\tvalid_1's auc: 0.776378\tvalid_1's binary_logloss: 0.240465\n",
      "[500]\ttraining's auc: 0.844619\ttraining's binary_logloss: 0.217191\tvalid_1's auc: 0.777355\tvalid_1's binary_logloss: 0.240144\n",
      "Did not meet early stopping. Best iteration is:\n",
      "[500]\ttraining's auc: 0.844619\ttraining's binary_logloss: 0.217191\tvalid_1's auc: 0.777355\tvalid_1's binary_logloss: 0.240144\n",
      "| \u001b[0m 14      \u001b[0m | \u001b[0m 0.7774  \u001b[0m | \u001b[0m 0.9789  \u001b[0m | \u001b[0m 363.4   \u001b[0m | \u001b[0m 15.32   \u001b[0m | \u001b[0m 190.7   \u001b[0m | \u001b[0m 2.003   \u001b[0m | \u001b[0m 57.05   \u001b[0m | \u001b[0m 1.982   \u001b[0m | \u001b[0m 4.416   \u001b[0m | \u001b[0m 0.9291  \u001b[0m |\n",
      "Training until validation scores don't improve for 100 rounds\n",
      "[100]\ttraining's auc: 0.779098\ttraining's binary_logloss: 0.242597\tvalid_1's auc: 0.758713\tvalid_1's binary_logloss: 0.247432\n",
      "[200]\ttraining's auc: 0.802\ttraining's binary_logloss: 0.233149\tvalid_1's auc: 0.769621\tvalid_1's binary_logloss: 0.242884\n",
      "[300]\ttraining's auc: 0.81865\ttraining's binary_logloss: 0.22679\tvalid_1's auc: 0.773862\tvalid_1's binary_logloss: 0.241339\n",
      "[400]\ttraining's auc: 0.832546\ttraining's binary_logloss: 0.221521\tvalid_1's auc: 0.776112\tvalid_1's binary_logloss: 0.24053\n",
      "[500]\ttraining's auc: 0.844492\ttraining's binary_logloss: 0.216971\tvalid_1's auc: 0.776749\tvalid_1's binary_logloss: 0.240308\n",
      "Did not meet early stopping. Best iteration is:\n",
      "[500]\ttraining's auc: 0.844492\ttraining's binary_logloss: 0.216971\tvalid_1's auc: 0.776749\tvalid_1's binary_logloss: 0.240308\n",
      "| \u001b[0m 15      \u001b[0m | \u001b[0m 0.7767  \u001b[0m | \u001b[0m 0.8747  \u001b[0m | \u001b[0m 398.4   \u001b[0m | \u001b[0m 15.32   \u001b[0m | \u001b[0m 177.1   \u001b[0m | \u001b[0m 23.05   \u001b[0m | \u001b[0m 56.52   \u001b[0m | \u001b[0m 2.533   \u001b[0m | \u001b[0m 1.005   \u001b[0m | \u001b[0m 0.9827  \u001b[0m |\n"
     ]
    },
    {
     "name": "stdout",
     "output_type": "stream",
     "text": [
      "Training until validation scores don't improve for 100 rounds\n",
      "[100]\ttraining's auc: 0.76187\ttraining's binary_logloss: 0.247879\tvalid_1's auc: 0.753913\tvalid_1's binary_logloss: 0.249302\n",
      "[200]\ttraining's auc: 0.778662\ttraining's binary_logloss: 0.241031\tvalid_1's auc: 0.765519\tvalid_1's binary_logloss: 0.2444\n",
      "[300]\ttraining's auc: 0.78922\ttraining's binary_logloss: 0.23712\tvalid_1's auc: 0.771074\tvalid_1's binary_logloss: 0.242375\n",
      "[400]\ttraining's auc: 0.797187\ttraining's binary_logloss: 0.234247\tvalid_1's auc: 0.773953\tvalid_1's binary_logloss: 0.241344\n",
      "[500]\ttraining's auc: 0.804056\ttraining's binary_logloss: 0.231805\tvalid_1's auc: 0.775929\tvalid_1's binary_logloss: 0.24065\n",
      "Did not meet early stopping. Best iteration is:\n",
      "[500]\ttraining's auc: 0.804056\ttraining's binary_logloss: 0.231805\tvalid_1's auc: 0.775929\tvalid_1's binary_logloss: 0.24065\n",
      "| \u001b[0m 16      \u001b[0m | \u001b[0m 0.7759  \u001b[0m | \u001b[0m 0.6846  \u001b[0m | \u001b[0m 368.2   \u001b[0m | \u001b[0m 14.93   \u001b[0m | \u001b[0m 197.8   \u001b[0m | \u001b[0m 25.54   \u001b[0m | \u001b[0m 25.02   \u001b[0m | \u001b[0m 4.245   \u001b[0m | \u001b[0m 2.664   \u001b[0m | \u001b[0m 0.8288  \u001b[0m |\n",
      "[LightGBM] [Warning] Accuracy may be bad since you didn't explicitly set num_leaves OR 2^max_depth > num_leaves. (num_leaves=31).\n",
      "Training until validation scores don't improve for 100 rounds\n",
      "[100]\ttraining's auc: 0.76672\ttraining's binary_logloss: 0.247028\tvalid_1's auc: 0.756541\tvalid_1's binary_logloss: 0.248962\n",
      "[200]\ttraining's auc: 0.783669\ttraining's binary_logloss: 0.239569\tvalid_1's auc: 0.767434\tvalid_1's binary_logloss: 0.24386\n",
      "[300]\ttraining's auc: 0.79523\ttraining's binary_logloss: 0.235244\tvalid_1's auc: 0.772526\tvalid_1's binary_logloss: 0.241924\n",
      "[400]\ttraining's auc: 0.804427\ttraining's binary_logloss: 0.231925\tvalid_1's auc: 0.775267\tvalid_1's binary_logloss: 0.240915\n",
      "[500]\ttraining's auc: 0.811987\ttraining's binary_logloss: 0.229176\tvalid_1's auc: 0.776778\tvalid_1's binary_logloss: 0.240381\n",
      "Did not meet early stopping. Best iteration is:\n",
      "[500]\ttraining's auc: 0.811987\ttraining's binary_logloss: 0.229176\tvalid_1's auc: 0.776778\tvalid_1's binary_logloss: 0.240381\n",
      "| \u001b[0m 17      \u001b[0m | \u001b[0m 0.7768  \u001b[0m | \u001b[0m 0.5385  \u001b[0m | \u001b[0m 375.6   \u001b[0m | \u001b[0m 15.71   \u001b[0m | \u001b[0m 162.2   \u001b[0m | \u001b[0m 1.157   \u001b[0m | \u001b[0m 31.29   \u001b[0m | \u001b[0m 0.3692  \u001b[0m | \u001b[0m 9.23    \u001b[0m | \u001b[0m 0.5688  \u001b[0m |\n",
      "Training until validation scores don't improve for 100 rounds\n",
      "[100]\ttraining's auc: 0.763487\ttraining's binary_logloss: 0.247559\tvalid_1's auc: 0.753988\tvalid_1's binary_logloss: 0.249255\n",
      "[200]\ttraining's auc: 0.780223\ttraining's binary_logloss: 0.240626\tvalid_1's auc: 0.76534\tvalid_1's binary_logloss: 0.244429\n",
      "[300]\ttraining's auc: 0.790465\ttraining's binary_logloss: 0.236701\tvalid_1's auc: 0.770206\tvalid_1's binary_logloss: 0.242582\n",
      "[400]\ttraining's auc: 0.797595\ttraining's binary_logloss: 0.234049\tvalid_1's auc: 0.772583\tvalid_1's binary_logloss: 0.24171\n",
      "[500]\ttraining's auc: 0.80371\ttraining's binary_logloss: 0.231846\tvalid_1's auc: 0.774369\tvalid_1's binary_logloss: 0.241097\n",
      "Did not meet early stopping. Best iteration is:\n",
      "[500]\ttraining's auc: 0.80371\ttraining's binary_logloss: 0.231846\tvalid_1's auc: 0.774369\tvalid_1's binary_logloss: 0.241097\n",
      "| \u001b[0m 18      \u001b[0m | \u001b[0m 0.7744  \u001b[0m | \u001b[0m 0.7394  \u001b[0m | \u001b[0m 417.5   \u001b[0m | \u001b[0m 6.129   \u001b[0m | \u001b[0m 174.7   \u001b[0m | \u001b[0m 31.59   \u001b[0m | \u001b[0m 28.05   \u001b[0m | \u001b[0m 1.518   \u001b[0m | \u001b[0m 6.418   \u001b[0m | \u001b[0m 0.8383  \u001b[0m |\n",
      "Training until validation scores don't improve for 100 rounds\n",
      "[100]\ttraining's auc: 0.776986\ttraining's binary_logloss: 0.24363\tvalid_1's auc: 0.757374\tvalid_1's binary_logloss: 0.248025\n",
      "[200]\ttraining's auc: 0.797886\ttraining's binary_logloss: 0.234776\tvalid_1's auc: 0.768483\tvalid_1's binary_logloss: 0.243304\n",
      "[300]\ttraining's auc: 0.813076\ttraining's binary_logloss: 0.228954\tvalid_1's auc: 0.77327\tvalid_1's binary_logloss: 0.241566\n",
      "[400]\ttraining's auc: 0.825935\ttraining's binary_logloss: 0.224135\tvalid_1's auc: 0.775806\tvalid_1's binary_logloss: 0.240681\n",
      "[500]\ttraining's auc: 0.836838\ttraining's binary_logloss: 0.219956\tvalid_1's auc: 0.776992\tvalid_1's binary_logloss: 0.240235\n",
      "Did not meet early stopping. Best iteration is:\n",
      "[500]\ttraining's auc: 0.836838\ttraining's binary_logloss: 0.219956\tvalid_1's auc: 0.776992\tvalid_1's binary_logloss: 0.240235\n",
      "| \u001b[0m 19      \u001b[0m | \u001b[0m 0.777   \u001b[0m | \u001b[0m 0.8929  \u001b[0m | \u001b[0m 381.0   \u001b[0m | \u001b[0m 12.24   \u001b[0m | \u001b[0m 162.5   \u001b[0m | \u001b[0m 1.124   \u001b[0m | \u001b[0m 62.24   \u001b[0m | \u001b[0m 9.051   \u001b[0m | \u001b[0m 8.559   \u001b[0m | \u001b[0m 0.5757  \u001b[0m |\n",
      "Training until validation scores don't improve for 100 rounds\n",
      "[100]\ttraining's auc: 0.774485\ttraining's binary_logloss: 0.244852\tvalid_1's auc: 0.757004\tvalid_1's binary_logloss: 0.248424\n",
      "[200]\ttraining's auc: 0.792537\ttraining's binary_logloss: 0.236941\tvalid_1's auc: 0.767318\tvalid_1's binary_logloss: 0.243762\n",
      "[300]\ttraining's auc: 0.804149\ttraining's binary_logloss: 0.232344\tvalid_1's auc: 0.771777\tvalid_1's binary_logloss: 0.242089\n",
      "[400]\ttraining's auc: 0.8131\ttraining's binary_logloss: 0.228878\tvalid_1's auc: 0.774161\tvalid_1's binary_logloss: 0.241232\n",
      "[500]\ttraining's auc: 0.821163\ttraining's binary_logloss: 0.225782\tvalid_1's auc: 0.775404\tvalid_1's binary_logloss: 0.240783\n",
      "Did not meet early stopping. Best iteration is:\n",
      "[500]\ttraining's auc: 0.821163\ttraining's binary_logloss: 0.225782\tvalid_1's auc: 0.775404\tvalid_1's binary_logloss: 0.240783\n",
      "| \u001b[0m 20      \u001b[0m | \u001b[0m 0.7754  \u001b[0m | \u001b[0m 0.8395  \u001b[0m | \u001b[0m 369.5   \u001b[0m | \u001b[0m 7.312   \u001b[0m | \u001b[0m 179.4   \u001b[0m | \u001b[0m 17.39   \u001b[0m | \u001b[0m 58.63   \u001b[0m | \u001b[0m 13.71   \u001b[0m | \u001b[0m 4.133   \u001b[0m | \u001b[0m 0.8568  \u001b[0m |\n",
      "Training until validation scores don't improve for 100 rounds\n",
      "[100]\ttraining's auc: 0.780021\ttraining's binary_logloss: 0.243308\tvalid_1's auc: 0.759823\tvalid_1's binary_logloss: 0.24777\n",
      "[200]\ttraining's auc: 0.800958\ttraining's binary_logloss: 0.233946\tvalid_1's auc: 0.769898\tvalid_1's binary_logloss: 0.24286\n",
      "[300]\ttraining's auc: 0.81698\ttraining's binary_logloss: 0.22778\tvalid_1's auc: 0.774314\tvalid_1's binary_logloss: 0.241218\n",
      "[400]\ttraining's auc: 0.830722\ttraining's binary_logloss: 0.222612\tvalid_1's auc: 0.776942\tvalid_1's binary_logloss: 0.240308\n",
      "[500]\ttraining's auc: 0.842042\ttraining's binary_logloss: 0.218291\tvalid_1's auc: 0.778057\tvalid_1's binary_logloss: 0.239921\n",
      "Did not meet early stopping. Best iteration is:\n",
      "[500]\ttraining's auc: 0.842042\ttraining's binary_logloss: 0.218291\tvalid_1's auc: 0.778057\tvalid_1's binary_logloss: 0.239921\n",
      "| \u001b[95m 21      \u001b[0m | \u001b[95m 0.7781  \u001b[0m | \u001b[95m 0.5967  \u001b[0m | \u001b[95m 403.2   \u001b[0m | \u001b[95m 12.91   \u001b[0m | \u001b[95m 158.8   \u001b[0m | \u001b[95m 7.338   \u001b[0m | \u001b[95m 58.12   \u001b[0m | \u001b[95m 0.6682  \u001b[0m | \u001b[95m 9.355   \u001b[0m | \u001b[95m 0.801   \u001b[0m |\n",
      "Training until validation scores don't improve for 100 rounds\n",
      "[100]\ttraining's auc: 0.77898\ttraining's binary_logloss: 0.243342\tvalid_1's auc: 0.758555\tvalid_1's binary_logloss: 0.247992\n",
      "[200]\ttraining's auc: 0.798959\ttraining's binary_logloss: 0.234514\tvalid_1's auc: 0.76841\tvalid_1's binary_logloss: 0.243369\n",
      "[300]\ttraining's auc: 0.814164\ttraining's binary_logloss: 0.228666\tvalid_1's auc: 0.773321\tvalid_1's binary_logloss: 0.241591\n",
      "[400]\ttraining's auc: 0.827085\ttraining's binary_logloss: 0.223771\tvalid_1's auc: 0.776039\tvalid_1's binary_logloss: 0.240644\n",
      "[500]\ttraining's auc: 0.838285\ttraining's binary_logloss: 0.219513\tvalid_1's auc: 0.777508\tvalid_1's binary_logloss: 0.240124\n",
      "Did not meet early stopping. Best iteration is:\n",
      "[500]\ttraining's auc: 0.838285\ttraining's binary_logloss: 0.219513\tvalid_1's auc: 0.777508\tvalid_1's binary_logloss: 0.240124\n",
      "| \u001b[0m 22      \u001b[0m | \u001b[0m 0.7775  \u001b[0m | \u001b[0m 0.6984  \u001b[0m | \u001b[0m 408.4   \u001b[0m | \u001b[0m 15.75   \u001b[0m | \u001b[0m 137.0   \u001b[0m | \u001b[0m 1.697   \u001b[0m | \u001b[0m 63.85   \u001b[0m | \u001b[0m 11.6    \u001b[0m | \u001b[0m 0.1763  \u001b[0m | \u001b[0m 0.864   \u001b[0m |\n",
      "Training until validation scores don't improve for 100 rounds\n",
      "[100]\ttraining's auc: 0.777057\ttraining's binary_logloss: 0.243549\tvalid_1's auc: 0.757727\tvalid_1's binary_logloss: 0.247866\n",
      "[200]\ttraining's auc: 0.798708\ttraining's binary_logloss: 0.234457\tvalid_1's auc: 0.769064\tvalid_1's binary_logloss: 0.243119\n",
      "[300]\ttraining's auc: 0.814158\ttraining's binary_logloss: 0.228529\tvalid_1's auc: 0.773437\tvalid_1's binary_logloss: 0.241564\n",
      "[400]\ttraining's auc: 0.827436\ttraining's binary_logloss: 0.223518\tvalid_1's auc: 0.776108\tvalid_1's binary_logloss: 0.240607\n"
     ]
    },
    {
     "name": "stdout",
     "output_type": "stream",
     "text": [
      "[500]\ttraining's auc: 0.83867\ttraining's binary_logloss: 0.219253\tvalid_1's auc: 0.777169\tvalid_1's binary_logloss: 0.240208\n",
      "Did not meet early stopping. Best iteration is:\n",
      "[500]\ttraining's auc: 0.83867\ttraining's binary_logloss: 0.219253\tvalid_1's auc: 0.777169\tvalid_1's binary_logloss: 0.240208\n",
      "| \u001b[0m 23      \u001b[0m | \u001b[0m 0.7772  \u001b[0m | \u001b[0m 0.9089  \u001b[0m | \u001b[0m 407.4   \u001b[0m | \u001b[0m 15.54   \u001b[0m | \u001b[0m 180.7   \u001b[0m | \u001b[0m 24.17   \u001b[0m | \u001b[0m 58.56   \u001b[0m | \u001b[0m 5.618   \u001b[0m | \u001b[0m 9.113   \u001b[0m | \u001b[0m 0.788   \u001b[0m |\n",
      "Training until validation scores don't improve for 100 rounds\n",
      "[100]\ttraining's auc: 0.7743\ttraining's binary_logloss: 0.244663\tvalid_1's auc: 0.757346\tvalid_1's binary_logloss: 0.248295\n",
      "[200]\ttraining's auc: 0.7934\ttraining's binary_logloss: 0.236415\tvalid_1's auc: 0.768102\tvalid_1's binary_logloss: 0.243544\n",
      "[300]\ttraining's auc: 0.806554\ttraining's binary_logloss: 0.231308\tvalid_1's auc: 0.772786\tvalid_1's binary_logloss: 0.241797\n",
      "[400]\ttraining's auc: 0.817607\ttraining's binary_logloss: 0.22716\tvalid_1's auc: 0.775328\tvalid_1's binary_logloss: 0.240878\n",
      "[500]\ttraining's auc: 0.827256\ttraining's binary_logloss: 0.223529\tvalid_1's auc: 0.776919\tvalid_1's binary_logloss: 0.240307\n",
      "Did not meet early stopping. Best iteration is:\n",
      "[500]\ttraining's auc: 0.827256\ttraining's binary_logloss: 0.223529\tvalid_1's auc: 0.776919\tvalid_1's binary_logloss: 0.240307\n",
      "| \u001b[0m 24      \u001b[0m | \u001b[0m 0.7769  \u001b[0m | \u001b[0m 0.8291  \u001b[0m | \u001b[0m 408.9   \u001b[0m | \u001b[0m 10.8    \u001b[0m | \u001b[0m 198.5   \u001b[0m | \u001b[0m 10.39   \u001b[0m | \u001b[0m 54.8    \u001b[0m | \u001b[0m 12.48   \u001b[0m | \u001b[0m 6.565   \u001b[0m | \u001b[0m 0.5806  \u001b[0m |\n",
      "Training until validation scores don't improve for 100 rounds\n",
      "[100]\ttraining's auc: 0.780987\ttraining's binary_logloss: 0.242281\tvalid_1's auc: 0.759117\tvalid_1's binary_logloss: 0.247485\n",
      "[200]\ttraining's auc: 0.803399\ttraining's binary_logloss: 0.232707\tvalid_1's auc: 0.769436\tvalid_1's binary_logloss: 0.242907\n",
      "[300]\ttraining's auc: 0.820217\ttraining's binary_logloss: 0.226213\tvalid_1's auc: 0.773667\tvalid_1's binary_logloss: 0.241358\n",
      "[400]\ttraining's auc: 0.834774\ttraining's binary_logloss: 0.220692\tvalid_1's auc: 0.776268\tvalid_1's binary_logloss: 0.240465\n",
      "[500]\ttraining's auc: 0.846897\ttraining's binary_logloss: 0.215994\tvalid_1's auc: 0.777223\tvalid_1's binary_logloss: 0.240096\n",
      "Did not meet early stopping. Best iteration is:\n",
      "[500]\ttraining's auc: 0.846897\ttraining's binary_logloss: 0.215994\tvalid_1's auc: 0.777223\tvalid_1's binary_logloss: 0.240096\n",
      "| \u001b[0m 25      \u001b[0m | \u001b[0m 0.7772  \u001b[0m | \u001b[0m 0.8242  \u001b[0m | \u001b[0m 414.0   \u001b[0m | \u001b[0m 12.84   \u001b[0m | \u001b[0m 139.6   \u001b[0m | \u001b[0m 23.64   \u001b[0m | \u001b[0m 62.52   \u001b[0m | \u001b[0m 4.5     \u001b[0m | \u001b[0m 1.024   \u001b[0m | \u001b[0m 0.9178  \u001b[0m |\n",
      "Training until validation scores don't improve for 100 rounds\n",
      "[100]\ttraining's auc: 0.781337\ttraining's binary_logloss: 0.242246\tvalid_1's auc: 0.759542\tvalid_1's binary_logloss: 0.247353\n",
      "[200]\ttraining's auc: 0.80494\ttraining's binary_logloss: 0.232417\tvalid_1's auc: 0.770308\tvalid_1's binary_logloss: 0.242697\n",
      "[300]\ttraining's auc: 0.822298\ttraining's binary_logloss: 0.22572\tvalid_1's auc: 0.774614\tvalid_1's binary_logloss: 0.241111\n",
      "[400]\ttraining's auc: 0.836837\ttraining's binary_logloss: 0.220186\tvalid_1's auc: 0.777086\tvalid_1's binary_logloss: 0.240274\n",
      "[500]\ttraining's auc: 0.848534\ttraining's binary_logloss: 0.21562\tvalid_1's auc: 0.777809\tvalid_1's binary_logloss: 0.23998\n",
      "Did not meet early stopping. Best iteration is:\n",
      "[500]\ttraining's auc: 0.848534\ttraining's binary_logloss: 0.21562\tvalid_1's auc: 0.777809\tvalid_1's binary_logloss: 0.23998\n",
      "| \u001b[0m 26      \u001b[0m | \u001b[0m 0.7778  \u001b[0m | \u001b[0m 0.8364  \u001b[0m | \u001b[0m 438.5   \u001b[0m | \u001b[0m 12.59   \u001b[0m | \u001b[0m 126.3   \u001b[0m | \u001b[0m 7.767   \u001b[0m | \u001b[0m 63.26   \u001b[0m | \u001b[0m 0.3294  \u001b[0m | \u001b[0m 9.232   \u001b[0m | \u001b[0m 0.6026  \u001b[0m |\n",
      "Training until validation scores don't improve for 100 rounds\n",
      "[100]\ttraining's auc: 0.777309\ttraining's binary_logloss: 0.243448\tvalid_1's auc: 0.75775\tvalid_1's binary_logloss: 0.247903\n",
      "[200]\ttraining's auc: 0.799142\ttraining's binary_logloss: 0.234375\tvalid_1's auc: 0.768792\tvalid_1's binary_logloss: 0.243165\n",
      "[300]\ttraining's auc: 0.814917\ttraining's binary_logloss: 0.22837\tvalid_1's auc: 0.773507\tvalid_1's binary_logloss: 0.241467\n",
      "[400]\ttraining's auc: 0.828058\ttraining's binary_logloss: 0.223386\tvalid_1's auc: 0.775906\tvalid_1's binary_logloss: 0.240582\n",
      "[500]\ttraining's auc: 0.839395\ttraining's binary_logloss: 0.219123\tvalid_1's auc: 0.777117\tvalid_1's binary_logloss: 0.240155\n",
      "Did not meet early stopping. Best iteration is:\n",
      "[500]\ttraining's auc: 0.839395\ttraining's binary_logloss: 0.219123\tvalid_1's auc: 0.777117\tvalid_1's binary_logloss: 0.240155\n",
      "| \u001b[0m 27      \u001b[0m | \u001b[0m 0.7771  \u001b[0m | \u001b[0m 0.7062  \u001b[0m | \u001b[0m 438.3   \u001b[0m | \u001b[0m 13.16   \u001b[0m | \u001b[0m 93.45   \u001b[0m | \u001b[0m 3.168   \u001b[0m | \u001b[0m 56.62   \u001b[0m | \u001b[0m 4.489   \u001b[0m | \u001b[0m 5.242   \u001b[0m | \u001b[0m 0.5061  \u001b[0m |\n",
      "Training until validation scores don't improve for 100 rounds\n",
      "[100]\ttraining's auc: 0.778145\ttraining's binary_logloss: 0.243305\tvalid_1's auc: 0.757936\tvalid_1's binary_logloss: 0.2478\n",
      "[200]\ttraining's auc: 0.799265\ttraining's binary_logloss: 0.234379\tvalid_1's auc: 0.768543\tvalid_1's binary_logloss: 0.243239\n",
      "[300]\ttraining's auc: 0.81363\ttraining's binary_logloss: 0.228749\tvalid_1's auc: 0.772821\tvalid_1's binary_logloss: 0.241685\n",
      "[400]\ttraining's auc: 0.825123\ttraining's binary_logloss: 0.224326\tvalid_1's auc: 0.774995\tvalid_1's binary_logloss: 0.240928\n",
      "[500]\ttraining's auc: 0.835617\ttraining's binary_logloss: 0.220326\tvalid_1's auc: 0.776429\tvalid_1's binary_logloss: 0.240431\n",
      "Did not meet early stopping. Best iteration is:\n",
      "[500]\ttraining's auc: 0.835617\ttraining's binary_logloss: 0.220326\tvalid_1's auc: 0.776429\tvalid_1's binary_logloss: 0.240431\n",
      "| \u001b[0m 28      \u001b[0m | \u001b[0m 0.7764  \u001b[0m | \u001b[0m 0.9458  \u001b[0m | \u001b[0m 465.0   \u001b[0m | \u001b[0m 7.9     \u001b[0m | \u001b[0m 121.9   \u001b[0m | \u001b[0m 2.539   \u001b[0m | \u001b[0m 62.43   \u001b[0m | \u001b[0m 4.784   \u001b[0m | \u001b[0m 9.659   \u001b[0m | \u001b[0m 0.5056  \u001b[0m |\n",
      "Training until validation scores don't improve for 100 rounds\n",
      "[100]\ttraining's auc: 0.768712\ttraining's binary_logloss: 0.245667\tvalid_1's auc: 0.755179\tvalid_1's binary_logloss: 0.248495\n",
      "[200]\ttraining's auc: 0.788298\ttraining's binary_logloss: 0.237819\tvalid_1's auc: 0.767231\tvalid_1's binary_logloss: 0.243688\n",
      "[300]\ttraining's auc: 0.801509\ttraining's binary_logloss: 0.232922\tvalid_1's auc: 0.772532\tvalid_1's binary_logloss: 0.241848\n",
      "[400]\ttraining's auc: 0.811986\ttraining's binary_logloss: 0.229057\tvalid_1's auc: 0.775444\tvalid_1's binary_logloss: 0.24083\n",
      "[500]\ttraining's auc: 0.820471\ttraining's binary_logloss: 0.225952\tvalid_1's auc: 0.776356\tvalid_1's binary_logloss: 0.24049\n",
      "Did not meet early stopping. Best iteration is:\n",
      "[500]\ttraining's auc: 0.820471\ttraining's binary_logloss: 0.225952\tvalid_1's auc: 0.776356\tvalid_1's binary_logloss: 0.24049\n",
      "| \u001b[0m 29      \u001b[0m | \u001b[0m 0.7764  \u001b[0m | \u001b[0m 0.9001  \u001b[0m | \u001b[0m 432.8   \u001b[0m | \u001b[0m 12.59   \u001b[0m | \u001b[0m 121.5   \u001b[0m | \u001b[0m 4.114   \u001b[0m | \u001b[0m 38.13   \u001b[0m | \u001b[0m 2.886   \u001b[0m | \u001b[0m 7.886   \u001b[0m | \u001b[0m 0.9864  \u001b[0m |\n",
      "Training until validation scores don't improve for 100 rounds\n",
      "[100]\ttraining's auc: 0.78142\ttraining's binary_logloss: 0.242343\tvalid_1's auc: 0.760102\tvalid_1's binary_logloss: 0.247216\n",
      "[200]\ttraining's auc: 0.803636\ttraining's binary_logloss: 0.232854\tvalid_1's auc: 0.770109\tvalid_1's binary_logloss: 0.242694\n",
      "[300]\ttraining's auc: 0.819047\ttraining's binary_logloss: 0.226767\tvalid_1's auc: 0.77406\tvalid_1's binary_logloss: 0.241196\n",
      "[400]\ttraining's auc: 0.831064\ttraining's binary_logloss: 0.22211\tvalid_1's auc: 0.775997\tvalid_1's binary_logloss: 0.240495\n",
      "[500]\ttraining's auc: 0.841456\ttraining's binary_logloss: 0.218102\tvalid_1's auc: 0.777091\tvalid_1's binary_logloss: 0.240091\n",
      "Did not meet early stopping. Best iteration is:\n",
      "[500]\ttraining's auc: 0.841456\ttraining's binary_logloss: 0.218102\tvalid_1's auc: 0.777091\tvalid_1's binary_logloss: 0.240091\n",
      "| \u001b[0m 30      \u001b[0m | \u001b[0m 0.7771  \u001b[0m | \u001b[0m 0.7396  \u001b[0m | \u001b[0m 442.3   \u001b[0m | \u001b[0m 9.243   \u001b[0m | \u001b[0m 126.5   \u001b[0m | \u001b[0m 31.85   \u001b[0m | \u001b[0m 63.82   \u001b[0m | \u001b[0m 0.6593  \u001b[0m | \u001b[0m 6.771   \u001b[0m | \u001b[0m 0.8922  \u001b[0m |\n",
      "=====================================================================================================================================\n"
     ]
    }
   ],
   "source": [
    "# BayesianOptimization객체를 수행할 함수와 search할 parameter 범위를 설정하여 생성. \n",
    "lgbBO = BayesianOptimization(lgb_roc_eval,bayesian_params , random_state=0)\n",
    "# 함수 반환값이 최대가 되는 입력값 유추를 위한 iteration 수행. \n",
    "lgbBO.maximize(init_points=5, n_iter=25)"
   ]
  },
  {
   "cell_type": "markdown",
   "metadata": {
    "colab_type": "text",
    "id": "2L3qCmiXvR5a"
   },
   "source": [
    "##### Iteration 수행 결과 출력"
   ]
  },
  {
   "cell_type": "code",
   "execution_count": 10,
   "metadata": {
    "colab": {},
    "colab_type": "code",
    "id": "DinJ-PaxvR5c"
   },
   "outputs": [
    {
     "data": {
      "text/plain": [
       "[{'target': 0.7758055093230539,\n",
       "  'params': {'colsample_bytree': 0.7744067519636624,\n",
       "   'max_bin': 360.44278952248555,\n",
       "   'max_depth': 12.027633760716439,\n",
       "   'min_child_samples': 113.52780476941041,\n",
       "   'min_child_weight': 21.75908516760633,\n",
       "   'num_leaves': 49.835764522666246,\n",
       "   'reg_alpha': 21.884984691022,\n",
       "   'reg_lambda': 8.917838234820016,\n",
       "   'subsample': 0.9818313802505146}},\n",
       " {'target': 0.7757909289675659,\n",
       "  'params': {'colsample_bytree': 0.6917207594128889,\n",
       "   'max_bin': 397.94526866050563,\n",
       "   'max_depth': 11.288949197529044,\n",
       "   'min_child_samples': 117.92846660784714,\n",
       "   'min_child_weight': 46.35423527634039,\n",
       "   'num_leaves': 26.841442327915477,\n",
       "   'reg_alpha': 4.36559369208002,\n",
       "   'reg_lambda': 0.20316375600581688,\n",
       "   'subsample': 0.916309922773969}},\n",
       " {'target': 0.7771779879367707,\n",
       "  'params': {'colsample_bytree': 0.8890783754749252,\n",
       "   'max_bin': 436.30595264094137,\n",
       "   'max_depth': 15.78618342232764,\n",
       "   'min_child_samples': 161.8401272011775,\n",
       "   'min_child_weight': 23.61248875039366,\n",
       "   'num_leaves': 55.22116705145822,\n",
       "   'reg_alpha': 5.922538549187972,\n",
       "   'reg_lambda': 6.3995702922539115,\n",
       "   'subsample': 0.5716766437045232}},\n",
       " {'target': 0.7748333416046418,\n",
       "  'params': {'colsample_bytree': 0.972334458524792,\n",
       "   'max_bin': 265.70567765753515,\n",
       "   'max_depth': 10.146619399905235,\n",
       "   'min_child_samples': 60.265566299879126,\n",
       "   'min_child_weight': 38.93745078227661,\n",
       "   'num_leaves': 42.24601328866194,\n",
       "   'reg_alpha': 28.426013103943742,\n",
       "   'reg_lambda': 0.18887921456311507,\n",
       "   'subsample': 0.8088177485379385}},\n",
       " {'target': 0.774035094542375,\n",
       "  'params': {'colsample_bytree': 0.8060478613612108,\n",
       "   'max_bin': 312.2976584686309,\n",
       "   'max_depth': 15.437480785146242,\n",
       "   'min_child_samples': 139.54585682966186,\n",
       "   'min_child_weight': 18.615887128115514,\n",
       "   'num_leaves': 41.481278151973655,\n",
       "   'reg_alpha': 34.88458348440397,\n",
       "   'reg_lambda': 0.6031944908210691,\n",
       "   'subsample': 0.8333833577228338}},\n",
       " {'target': 0.7773908017189786,\n",
       "  'params': {'colsample_bytree': 0.640481830861817,\n",
       "   'max_bin': 435.0379450370509,\n",
       "   'max_depth': 13.497244758196743,\n",
       "   'min_child_samples': 169.30259380663517,\n",
       "   'min_child_weight': 26.924368410534857,\n",
       "   'num_leaves': 57.69153705029583,\n",
       "   'reg_alpha': 5.7675960060342195,\n",
       "   'reg_lambda': 9.196441703351635,\n",
       "   'subsample': 0.6129607288812317}},\n",
       " {'target': 0.7755362516633085,\n",
       "  'params': {'colsample_bytree': 0.6778196691000836,\n",
       "   'max_bin': 477.176698811766,\n",
       "   'max_depth': 11.752369565537183,\n",
       "   'min_child_samples': 194.8929524178145,\n",
       "   'min_child_weight': 46.84607882647774,\n",
       "   'num_leaves': 59.472175385640206,\n",
       "   'reg_alpha': 26.316833854656593,\n",
       "   'reg_lambda': 8.387658534981561,\n",
       "   'subsample': 0.7753185059732159}},\n",
       " {'target': 0.7772142029411041,\n",
       "  'params': {'colsample_bytree': 0.7373732904804776,\n",
       "   'max_bin': 408.1358313138957,\n",
       "   'max_depth': 12.843992667819151,\n",
       "   'min_child_samples': 197.5558677155646,\n",
       "   'min_child_weight': 5.693485177437429,\n",
       "   'num_leaves': 57.72941400376497,\n",
       "   'reg_alpha': 6.171344107340323,\n",
       "   'reg_lambda': 8.007058832279368,\n",
       "   'subsample': 0.6427405880739969}},\n",
       " {'target': 0.7763952615906466,\n",
       "  'params': {'colsample_bytree': 0.7748893532024008,\n",
       "   'max_bin': 388.9169674423393,\n",
       "   'max_depth': 14.298324669842952,\n",
       "   'min_child_samples': 193.91589835191607,\n",
       "   'min_child_weight': 49.909444261894315,\n",
       "   'num_leaves': 62.84933349372062,\n",
       "   'reg_alpha': 13.150761788903786,\n",
       "   'reg_lambda': 9.906371801724482,\n",
       "   'subsample': 0.6811573472682452}},\n",
       " {'target': 0.7734141467631326,\n",
       "  'params': {'colsample_bytree': 0.9461483552083645,\n",
       "   'max_bin': 421.69292633292594,\n",
       "   'max_depth': 6.671600015870614,\n",
       "   'min_child_samples': 189.89049916570497,\n",
       "   'min_child_weight': 10.044424315906738,\n",
       "   'num_leaves': 47.83526701748679,\n",
       "   'reg_alpha': 46.74823035052019,\n",
       "   'reg_lambda': 9.147970169890396,\n",
       "   'subsample': 0.7801135437391282}},\n",
       " {'target': 0.7756008426857747,\n",
       "  'params': {'colsample_bytree': 0.5017469237656516,\n",
       "   'max_bin': 393.72190024490175,\n",
       "   'max_depth': 10.707724066578827,\n",
       "   'min_child_samples': 118.96813016814396,\n",
       "   'min_child_weight': 45.56868876896979,\n",
       "   'num_leaves': 28.201502549830405,\n",
       "   'reg_alpha': 10.952704243299513,\n",
       "   'reg_lambda': 4.662235191571802,\n",
       "   'subsample': 0.9551699402948195}},\n",
       " {'target': 0.7771050305636831,\n",
       "  'params': {'colsample_bytree': 0.6422839773084814,\n",
       "   'max_bin': 400.82150970541625,\n",
       "   'max_depth': 13.131175782431662,\n",
       "   'min_child_samples': 174.45170668076625,\n",
       "   'min_child_weight': 22.20273089632871,\n",
       "   'num_leaves': 53.41657085105421,\n",
       "   'reg_alpha': 0.8135160827380638,\n",
       "   'reg_lambda': 3.856905787752113,\n",
       "   'subsample': 0.6029851974682363}},\n",
       " {'target': 0.7772365047377109,\n",
       "  'params': {'colsample_bytree': 0.6968897778533021,\n",
       "   'max_bin': 388.82764448356886,\n",
       "   'max_depth': 13.691810834514651,\n",
       "   'min_child_samples': 178.80475184834663,\n",
       "   'min_child_weight': 26.23145438502705,\n",
       "   'num_leaves': 50.312746331501124,\n",
       "   'reg_alpha': 0.1285436498176259,\n",
       "   'reg_lambda': 1.032293662925894,\n",
       "   'subsample': 0.8562506227206372}},\n",
       " {'target': 0.7773549981224318,\n",
       "  'params': {'colsample_bytree': 0.9789353469971445,\n",
       "   'max_bin': 363.4354295856673,\n",
       "   'max_depth': 15.315211746017521,\n",
       "   'min_child_samples': 190.73741827012313,\n",
       "   'min_child_weight': 2.003360059766269,\n",
       "   'num_leaves': 57.046953584464674,\n",
       "   'reg_alpha': 1.9824621842535364,\n",
       "   'reg_lambda': 4.416491356182225,\n",
       "   'subsample': 0.9290899949750824}},\n",
       " {'target': 0.7767492867273098,\n",
       "  'params': {'colsample_bytree': 0.8747411340191682,\n",
       "   'max_bin': 398.36524681235744,\n",
       "   'max_depth': 15.320951372373688,\n",
       "   'min_child_samples': 177.08379767055555,\n",
       "   'min_child_weight': 23.052918269012956,\n",
       "   'num_leaves': 56.51625901289448,\n",
       "   'reg_alpha': 2.5331760761204847,\n",
       "   'reg_lambda': 1.0049109599081048,\n",
       "   'subsample': 0.9826775193057701}},\n",
       " {'target': 0.775929160395352,\n",
       "  'params': {'colsample_bytree': 0.6845927664319438,\n",
       "   'max_bin': 368.221991524003,\n",
       "   'max_depth': 14.927073385197513,\n",
       "   'min_child_samples': 197.8030464042996,\n",
       "   'min_child_weight': 25.535853809991778,\n",
       "   'num_leaves': 25.021887939272,\n",
       "   'reg_alpha': 4.2450984307780235,\n",
       "   'reg_lambda': 2.664497197105028,\n",
       "   'subsample': 0.8288176887623219}},\n",
       " {'target': 0.7767777231064307,\n",
       "  'params': {'colsample_bytree': 0.538512544314991,\n",
       "   'max_bin': 375.62078344659466,\n",
       "   'max_depth': 15.712329472869794,\n",
       "   'min_child_samples': 162.22115952435223,\n",
       "   'min_child_weight': 1.156941735685324,\n",
       "   'num_leaves': 31.294569230544013,\n",
       "   'reg_alpha': 0.36916877863456377,\n",
       "   'reg_lambda': 9.229532425566951,\n",
       "   'subsample': 0.5688093468774877}},\n",
       " {'target': 0.7743690019971274,\n",
       "  'params': {'colsample_bytree': 0.7394308873506115,\n",
       "   'max_bin': 417.4989608386593,\n",
       "   'max_depth': 6.128913120786649,\n",
       "   'min_child_samples': 174.74416919268225,\n",
       "   'min_child_weight': 31.59245109049789,\n",
       "   'num_leaves': 28.05211885684618,\n",
       "   'reg_alpha': 1.5180061549611963,\n",
       "   'reg_lambda': 6.418396503524244,\n",
       "   'subsample': 0.8382939851041469}},\n",
       " {'target': 0.7769920411479967,\n",
       "  'params': {'colsample_bytree': 0.8929451865708424,\n",
       "   'max_bin': 380.96408472669606,\n",
       "   'max_depth': 12.24296875089054,\n",
       "   'min_child_samples': 162.4681623947883,\n",
       "   'min_child_weight': 1.124323100936236,\n",
       "   'num_leaves': 62.237143754650376,\n",
       "   'reg_alpha': 9.051348381820413,\n",
       "   'reg_lambda': 8.55903813259641,\n",
       "   'subsample': 0.5756763184847222}},\n",
       " {'target': 0.7754041675256128,\n",
       "  'params': {'colsample_bytree': 0.8395378766641771,\n",
       "   'max_bin': 369.45992318249404,\n",
       "   'max_depth': 7.311653298584847,\n",
       "   'min_child_samples': 179.448902083174,\n",
       "   'min_child_weight': 17.38672526468209,\n",
       "   'num_leaves': 58.6349743249024,\n",
       "   'reg_alpha': 13.707733769542015,\n",
       "   'reg_lambda': 4.132666603445228,\n",
       "   'subsample': 0.8567763982467431}},\n",
       " {'target': 0.7780565770624691,\n",
       "  'params': {'colsample_bytree': 0.596684514717646,\n",
       "   'max_bin': 403.18943474881877,\n",
       "   'max_depth': 12.907058961217114,\n",
       "   'min_child_samples': 158.84286216603994,\n",
       "   'min_child_weight': 7.338287048901049,\n",
       "   'num_leaves': 58.11656509027165,\n",
       "   'reg_alpha': 0.6681705096965275,\n",
       "   'reg_lambda': 9.355145759543333,\n",
       "   'subsample': 0.8010238277727275}},\n",
       " {'target': 0.7775081101221989,\n",
       "  'params': {'colsample_bytree': 0.6983666820490788,\n",
       "   'max_bin': 408.3845530220334,\n",
       "   'max_depth': 15.750233779055964,\n",
       "   'min_child_samples': 136.95205244907152,\n",
       "   'min_child_weight': 1.6965708103918615,\n",
       "   'num_leaves': 63.8506437238174,\n",
       "   'reg_alpha': 11.603475539657392,\n",
       "   'reg_lambda': 0.17633246697484675,\n",
       "   'subsample': 0.8640107135672386}},\n",
       " {'target': 0.7771685255576835,\n",
       "  'params': {'colsample_bytree': 0.9089270943590277,\n",
       "   'max_bin': 407.4077569955801,\n",
       "   'max_depth': 15.54111069785531,\n",
       "   'min_child_samples': 180.7441063643676,\n",
       "   'min_child_weight': 24.16966471165873,\n",
       "   'num_leaves': 58.55774861930196,\n",
       "   'reg_alpha': 5.617770487707293,\n",
       "   'reg_lambda': 9.112524233329468,\n",
       "   'subsample': 0.7879625370264551}},\n",
       " {'target': 0.7769187946775454,\n",
       "  'params': {'colsample_bytree': 0.8291181953449183,\n",
       "   'max_bin': 408.90814062859624,\n",
       "   'max_depth': 10.799903523797198,\n",
       "   'min_child_samples': 198.46670214232182,\n",
       "   'min_child_weight': 10.393808863704972,\n",
       "   'num_leaves': 54.79520213741949,\n",
       "   'reg_alpha': 12.481921001697238,\n",
       "   'reg_lambda': 6.564787886354399,\n",
       "   'subsample': 0.580612232524619}},\n",
       " {'target': 0.7772230140569003,\n",
       "  'params': {'colsample_bytree': 0.8242099119497381,\n",
       "   'max_bin': 414.0195379290514,\n",
       "   'max_depth': 12.838272481918226,\n",
       "   'min_child_samples': 139.5861484641032,\n",
       "   'min_child_weight': 23.638609111440616,\n",
       "   'num_leaves': 62.52080831472535,\n",
       "   'reg_alpha': 4.499765686038743,\n",
       "   'reg_lambda': 1.0239192579133045,\n",
       "   'subsample': 0.9178127659622564}},\n",
       " {'target': 0.777808998528086,\n",
       "  'params': {'colsample_bytree': 0.8364260787813464,\n",
       "   'max_bin': 438.5344980810344,\n",
       "   'max_depth': 12.59368901950138,\n",
       "   'min_child_samples': 126.31456889978566,\n",
       "   'min_child_weight': 7.767143783785291,\n",
       "   'num_leaves': 63.260425772040506,\n",
       "   'reg_alpha': 0.32940336713078977,\n",
       "   'reg_lambda': 9.23233466904062,\n",
       "   'subsample': 0.602582344997781}},\n",
       " {'target': 0.7771167374184544,\n",
       "  'params': {'colsample_bytree': 0.7062460990955068,\n",
       "   'max_bin': 438.3043198858672,\n",
       "   'max_depth': 13.162643244440723,\n",
       "   'min_child_samples': 93.44971252277496,\n",
       "   'min_child_weight': 3.1677333380244557,\n",
       "   'num_leaves': 56.6248859454379,\n",
       "   'reg_alpha': 4.488505501877722,\n",
       "   'reg_lambda': 5.24181749541699,\n",
       "   'subsample': 0.5061422738685454}},\n",
       " {'target': 0.7764292464153193,\n",
       "  'params': {'colsample_bytree': 0.9458015786718881,\n",
       "   'max_bin': 465.00800252186986,\n",
       "   'max_depth': 7.899527803307271,\n",
       "   'min_child_samples': 121.9201901620783,\n",
       "   'min_child_weight': 2.5392614386800236,\n",
       "   'num_leaves': 62.427676297468345,\n",
       "   'reg_alpha': 4.784274264326323,\n",
       "   'reg_lambda': 9.658699354226123,\n",
       "   'subsample': 0.505629085733924}},\n",
       " {'target': 0.7763562620386317,\n",
       "  'params': {'colsample_bytree': 0.900086638538324,\n",
       "   'max_bin': 432.8385783874056,\n",
       "   'max_depth': 12.593459218233793,\n",
       "   'min_child_samples': 121.50703399935037,\n",
       "   'min_child_weight': 4.114137212124302,\n",
       "   'num_leaves': 38.12688146861727,\n",
       "   'reg_alpha': 2.885555306126921,\n",
       "   'reg_lambda': 7.88597353383862,\n",
       "   'subsample': 0.9863664224720974}},\n",
       " {'target': 0.777091004576216,\n",
       "  'params': {'colsample_bytree': 0.7395613472763644,\n",
       "   'max_bin': 442.26433974553163,\n",
       "   'max_depth': 9.243101646454075,\n",
       "   'min_child_samples': 126.50175957072607,\n",
       "   'min_child_weight': 31.84651381717126,\n",
       "   'num_leaves': 63.82367461756897,\n",
       "   'reg_alpha': 0.6593173679660734,\n",
       "   'reg_lambda': 6.770945353052257,\n",
       "   'subsample': 0.8921800827540989}}]"
      ]
     },
     "execution_count": 10,
     "metadata": {},
     "output_type": "execute_result"
    }
   ],
   "source": [
    "# BayesianOptimization객체의 res는 iteration 수행 시마다 모든 함수 반환결과와 그때의 파라미터 결과값을 가지고 있음. \n",
    "lgbBO.res"
   ]
  },
  {
   "cell_type": "markdown",
   "metadata": {
    "colab_type": "text",
    "id": "7pF714uFvR5l"
   },
   "source": [
    "##### Iteration 결과 Dictionary에서 최대 target값을 가지는 index 추출하고 그때의 parameter 값을 추출.  "
   ]
  },
  {
   "cell_type": "code",
   "execution_count": 11,
   "metadata": {
    "colab": {},
    "colab_type": "code",
    "id": "aR-_KsyivR5o"
   },
   "outputs": [
    {
     "name": "stdout",
     "output_type": "stream",
     "text": [
      "[0.7758055093230539, 0.7757909289675659, 0.7771779879367707, 0.7748333416046418, 0.774035094542375, 0.7773908017189786, 0.7755362516633085, 0.7772142029411041, 0.7763952615906466, 0.7734141467631326, 0.7756008426857747, 0.7771050305636831, 0.7772365047377109, 0.7773549981224318, 0.7767492867273098, 0.775929160395352, 0.7767777231064307, 0.7743690019971274, 0.7769920411479967, 0.7754041675256128, 0.7780565770624691, 0.7775081101221989, 0.7771685255576835, 0.7769187946775454, 0.7772230140569003, 0.777808998528086, 0.7771167374184544, 0.7764292464153193, 0.7763562620386317, 0.777091004576216]\n",
      "maximum target index: 20\n"
     ]
    }
   ],
   "source": [
    "# dictionary에 있는 target값을 모두 추출\n",
    "target_list = []\n",
    "for result in lgbBO.res:\n",
    "    target = result['target']\n",
    "    target_list.append(target)\n",
    "print(target_list)\n",
    "# 가장 큰 target 값을 가지는 순번(index)를 추출\n",
    "print('maximum target index:', np.argmax(np.array(target_list)))"
   ]
  },
  {
   "cell_type": "code",
   "execution_count": 12,
   "metadata": {
    "colab": {},
    "colab_type": "code",
    "id": "zZLxoImyvR5x"
   },
   "outputs": [
    {
     "name": "stdout",
     "output_type": "stream",
     "text": [
      "{'target': 0.7780565770624691, 'params': {'colsample_bytree': 0.596684514717646, 'max_bin': 403.18943474881877, 'max_depth': 12.907058961217114, 'min_child_samples': 158.84286216603994, 'min_child_weight': 7.338287048901049, 'num_leaves': 58.11656509027165, 'reg_alpha': 0.6681705096965275, 'reg_lambda': 9.355145759543333, 'subsample': 0.8010238277727275}}\n"
     ]
    }
   ],
   "source": [
    "# 가장 큰 target값을 가지는 index값을 기준으로 res에서 해당 parameter 추출. \n",
    "max_dict = lgbBO.res[np.argmax(np.array(target_list))]\n",
    "print(max_dict)"
   ]
  },
  {
   "cell_type": "markdown",
   "metadata": {
    "colab_type": "text",
    "id": "mQ0EHnuIvR53"
   },
   "source": [
    "##### 최적화된 하이퍼 파라미터를 기반으로 재 테스트 "
   ]
  },
  {
   "cell_type": "code",
   "execution_count": 13,
   "metadata": {
    "colab": {},
    "colab_type": "code",
    "id": "32l2G2bZvR54"
   },
   "outputs": [],
   "source": [
    "def train_apps_all(apps_all_train):\n",
    "    ftr_app = apps_all_train.drop(['SK_ID_CURR', 'TARGET'], axis=1)\n",
    "    target_app = apps_all_train['TARGET']\n",
    "\n",
    "    train_x, valid_x, train_y, valid_y = train_test_split(ftr_app, target_app, test_size=0.3, random_state=2020)\n",
    "    print('train shape:', train_x.shape, 'valid shape:', valid_x.shape)\n",
    "    clf = LGBMClassifier(\n",
    "                nthread=4,\n",
    "                n_estimators=1000,\n",
    "                learning_rate=0.02,\n",
    "                max_depth = 13,\n",
    "                num_leaves=58,\n",
    "                colsample_bytree=0.597,\n",
    "                subsample=0.801,\n",
    "                max_bin=403,\n",
    "                reg_alpha=0.668,\n",
    "                reg_lambda=9.355,\n",
    "                min_child_weight=7,\n",
    "                min_child_samples=159,\n",
    "                silent=-1,\n",
    "                verbose=-1,\n",
    "                )\n",
    "\n",
    "    clf.fit(train_x, train_y, eval_set=[(train_x, train_y), (valid_x, valid_y)], eval_metric= 'auc', verbose= 100, \n",
    "                early_stopping_rounds= 100)\n",
    "    \n",
    "    return clf"
   ]
  },
  {
   "cell_type": "code",
   "execution_count": 14,
   "metadata": {
    "colab": {},
    "colab_type": "code",
    "id": "XxqV8KpFvR5_"
   },
   "outputs": [
    {
     "name": "stdout",
     "output_type": "stream",
     "text": [
      "prev_agg shape: (338857, 41)\n",
      "apps_all before merge shape: (356255, 135)\n",
      "apps_all after merge with prev_agg shape: (356255, 176)\n",
      "train shape: (215257, 174) valid shape: (92254, 174)\n",
      "[LightGBM] [Warning] num_threads is set with n_jobs=-1, nthread=4 will be ignored. Current value: num_threads=-1\n",
      "Training until validation scores don't improve for 100 rounds\n",
      "[100]\ttraining's auc: 0.780021\ttraining's binary_logloss: 0.243308\tvalid_1's auc: 0.759823\tvalid_1's binary_logloss: 0.24777\n",
      "[200]\ttraining's auc: 0.800965\ttraining's binary_logloss: 0.233949\tvalid_1's auc: 0.769883\tvalid_1's binary_logloss: 0.242862\n",
      "[300]\ttraining's auc: 0.816938\ttraining's binary_logloss: 0.227818\tvalid_1's auc: 0.773949\tvalid_1's binary_logloss: 0.241297\n",
      "[400]\ttraining's auc: 0.830483\ttraining's binary_logloss: 0.222685\tvalid_1's auc: 0.776637\tvalid_1's binary_logloss: 0.240371\n",
      "[500]\ttraining's auc: 0.841828\ttraining's binary_logloss: 0.218364\tvalid_1's auc: 0.77781\tvalid_1's binary_logloss: 0.239972\n",
      "[600]\ttraining's auc: 0.851758\ttraining's binary_logloss: 0.214575\tvalid_1's auc: 0.778251\tvalid_1's binary_logloss: 0.239807\n",
      "[700]\ttraining's auc: 0.861008\ttraining's binary_logloss: 0.210991\tvalid_1's auc: 0.778768\tvalid_1's binary_logloss: 0.239639\n",
      "[800]\ttraining's auc: 0.869554\ttraining's binary_logloss: 0.207571\tvalid_1's auc: 0.778859\tvalid_1's binary_logloss: 0.239603\n",
      "[900]\ttraining's auc: 0.877599\ttraining's binary_logloss: 0.204281\tvalid_1's auc: 0.779087\tvalid_1's binary_logloss: 0.239534\n",
      "[1000]\ttraining's auc: 0.885106\ttraining's binary_logloss: 0.201105\tvalid_1's auc: 0.77916\tvalid_1's binary_logloss: 0.239504\n",
      "Did not meet early stopping. Best iteration is:\n",
      "[1000]\ttraining's auc: 0.885106\ttraining's binary_logloss: 0.201105\tvalid_1's auc: 0.77916\tvalid_1's binary_logloss: 0.239504\n"
     ]
    }
   ],
   "source": [
    "apps_all = get_apps_all_with_prev_agg(apps, prev)\n",
    "apps_all = get_apps_all_encoded(apps_all)\n",
    "apps_all_train, apps_all_test = get_apps_all_train_test(apps_all)\n",
    "clf = train_apps_all(apps_all_train)"
   ]
  },
  {
   "cell_type": "code",
   "execution_count": 15,
   "metadata": {
    "colab": {},
    "colab_type": "code",
    "id": "gQrAcQ1QvR6I"
   },
   "outputs": [],
   "source": [
    "preds = clf.predict_proba(apps_all_test.drop('SK_ID_CURR', axis=1))[:, 1 ]\n",
    "apps_all_test['TARGET'] = preds\n",
    "apps_all_test[['SK_ID_CURR', 'TARGET']].to_csv('prev_baseline_tuning_01.csv', index=False)"
   ]
  },
  {
   "cell_type": "markdown",
   "metadata": {
    "colab": {},
    "colab_type": "code",
    "id": "l01RNW9nvR6y"
   },
   "source": [
    "##### cross validation 으로 hyper parameter 재 tuning"
   ]
  },
  {
   "cell_type": "code",
   "execution_count": 16,
   "metadata": {},
   "outputs": [],
   "source": [
    "bayesian_params = {\n",
    "    'max_depth': (6, 16), \n",
    "    'num_leaves': (24, 64), \n",
    "    'min_data_in_leaf': (10, 200), # min_child_samples\n",
    "    'min_child_weight':(1, 50),\n",
    "    'bagging_fraction':(0.5, 1.0), # subsample\n",
    "    'feature_fraction': (0.5, 1.0), # colsample_bytree\n",
    "    'max_bin':(10, 500),\n",
    "    'lambda_l2':(0.001, 10), # reg_lambda\n",
    "    'lambda_l1': (0.01, 50) # reg_alpha\n",
    "}"
   ]
  },
  {
   "cell_type": "code",
   "execution_count": 17,
   "metadata": {},
   "outputs": [],
   "source": [
    "import lightgbm as lgb\n",
    "\n",
    "train_data = lgb.Dataset(data=ftr_app, label=target_app, free_raw_data=False)\n",
    "def lgb_roc_eval_cv(max_depth, num_leaves, min_data_in_leaf, min_child_weight, bagging_fraction, \n",
    "                 feature_fraction,  max_bin, lambda_l2, lambda_l1):   \n",
    "    params = {\n",
    "        \"num_iterations\":500, \"learning_rate\":0.02,\n",
    "        'early_stopping_rounds':100, 'metric':'auc',\n",
    "        'max_depth': int(round(max_depth)), #  호출 시 실수형 값이 들어오므로 실수형 하이퍼 파라미터는 정수형으로 변경 \n",
    "        'num_leaves': int(round(num_leaves)), \n",
    "        'min_data_in_leaf': int(round(min_data_in_leaf)),\n",
    "        'min_child_weight': int(round(min_child_weight)),\n",
    "        'bagging_fraction': max(min(bagging_fraction, 1), 0), \n",
    "        'feature_fraction': max(min(feature_fraction, 1), 0),\n",
    "        'max_bin':  max(int(round(max_bin)),10),\n",
    "        'lambda_l2': max(lambda_l2,0),\n",
    "        'lambda_l1': max(lambda_l1, 0)\n",
    "    }\n",
    "    # 파이썬 lightgbm의 cv 메소드를 사용. \n",
    "    \n",
    "    cv_result = lgb.cv(params, train_data, nfold=3, seed=0,  verbose_eval =100,  early_stopping_rounds=50, metrics=['auc'])\n",
    "    return max(cv_result['auc-mean'])   "
   ]
  },
  {
   "cell_type": "code",
   "execution_count": null,
   "metadata": {},
   "outputs": [],
   "source": [
    "lgbBO = BayesianOptimization(lgb_roc_eval_cv, bayesian_params, random_state=0)\n",
    "lgbBO.maximize(init_points=5, n_iter=25)"
   ]
  },
  {
   "cell_type": "code",
   "execution_count": null,
   "metadata": {},
   "outputs": [],
   "source": [
    "max_dict = lgbBO.res[np.argmax(np.array(target_list))]\n",
    "print(max_dict)"
   ]
  },
  {
   "cell_type": "code",
   "execution_count": 19,
   "metadata": {},
   "outputs": [],
   "source": [
    "def train_apps_all(apps_all_train):\n",
    "    ftr_app = apps_all_train.drop(['SK_ID_CURR', 'TARGET'], axis=1)\n",
    "    target_app = apps_all_train['TARGET']\n",
    "\n",
    "    train_x, valid_x, train_y, valid_y = train_test_split(ftr_app, target_app, test_size=0.3, random_state=2020)\n",
    "    print('train shape:', train_x.shape, 'valid shape:', valid_x.shape)\n",
    "    clf = LGBMClassifier(\n",
    "                nthread=4,\n",
    "                n_estimators=1000,\n",
    "                learning_rate=0.02,\n",
    "                max_depth = 10,\n",
    "                num_leaves=60,\n",
    "                colsample_bytree=0.511,\n",
    "                subsample=0.785,\n",
    "                max_bin=208,\n",
    "                reg_alpha=7.009,\n",
    "                reg_lambda=6.579,\n",
    "                min_child_weight=40,\n",
    "                min_child_samples=91,\n",
    "                silent=-1,\n",
    "                verbose=-1,\n",
    "                )\n",
    "\n",
    "    clf.fit(train_x, train_y, eval_set=[(train_x, train_y), (valid_x, valid_y)], eval_metric= 'auc', verbose= 100, \n",
    "                early_stopping_rounds= 100)\n",
    "    \n",
    "    return clf"
   ]
  },
  {
   "cell_type": "code",
   "execution_count": 20,
   "metadata": {},
   "outputs": [
    {
     "name": "stdout",
     "output_type": "stream",
     "text": [
      "prev_agg shape: (338857, 41)\n",
      "apps_all before merge shape: (356255, 135)\n",
      "apps_all after merge with prev_agg shape: (356255, 176)\n",
      "train shape: (215257, 174) valid shape: (92254, 174)\n",
      "[LightGBM] [Warning] num_threads is set with n_jobs=-1, nthread=4 will be ignored. Current value: num_threads=-1\n",
      "Training until validation scores don't improve for 100 rounds\n",
      "[100]\ttraining's auc: 0.778196\ttraining's binary_logloss: 0.244231\tvalid_1's auc: 0.759447\tvalid_1's binary_logloss: 0.248086\n",
      "[200]\ttraining's auc: 0.796403\ttraining's binary_logloss: 0.235724\tvalid_1's auc: 0.768809\tvalid_1's binary_logloss: 0.243317\n",
      "[300]\ttraining's auc: 0.810041\ttraining's binary_logloss: 0.230315\tvalid_1's auc: 0.773092\tvalid_1's binary_logloss: 0.24165\n",
      "[400]\ttraining's auc: 0.821291\ttraining's binary_logloss: 0.226011\tvalid_1's auc: 0.77516\tvalid_1's binary_logloss: 0.240882\n",
      "[500]\ttraining's auc: 0.831384\ttraining's binary_logloss: 0.222207\tvalid_1's auc: 0.776743\tvalid_1's binary_logloss: 0.240331\n",
      "[600]\ttraining's auc: 0.84052\ttraining's binary_logloss: 0.218701\tvalid_1's auc: 0.777788\tvalid_1's binary_logloss: 0.23997\n",
      "[700]\ttraining's auc: 0.848839\ttraining's binary_logloss: 0.215457\tvalid_1's auc: 0.778254\tvalid_1's binary_logloss: 0.239795\n",
      "[800]\ttraining's auc: 0.856461\ttraining's binary_logloss: 0.212433\tvalid_1's auc: 0.778433\tvalid_1's binary_logloss: 0.239711\n",
      "[900]\ttraining's auc: 0.863692\ttraining's binary_logloss: 0.209528\tvalid_1's auc: 0.778499\tvalid_1's binary_logloss: 0.239683\n",
      "[1000]\ttraining's auc: 0.870472\ttraining's binary_logloss: 0.206718\tvalid_1's auc: 0.778547\tvalid_1's binary_logloss: 0.239641\n",
      "Did not meet early stopping. Best iteration is:\n",
      "[1000]\ttraining's auc: 0.870472\ttraining's binary_logloss: 0.206718\tvalid_1's auc: 0.778547\tvalid_1's binary_logloss: 0.239641\n"
     ]
    }
   ],
   "source": [
    "apps_all = get_apps_all_with_prev_agg(apps, prev)\n",
    "apps_all = get_apps_all_encoded(apps_all)\n",
    "apps_all_train, apps_all_test = get_apps_all_train_test(apps_all)\n",
    "clf = train_apps_all(apps_all_train)"
   ]
  },
  {
   "cell_type": "code",
   "execution_count": 21,
   "metadata": {},
   "outputs": [],
   "source": [
    "preds = clf.predict_proba(apps_all_test.drop('SK_ID_CURR', axis=1))[:, 1 ]\n",
    "apps_all_test['TARGET'] = preds\n",
    "apps_all_test[['SK_ID_CURR', 'TARGET']].to_csv('prev_baseline_tuning_02.csv', index=False)"
   ]
  },
  {
   "cell_type": "code",
   "execution_count": null,
   "metadata": {},
   "outputs": [],
   "source": []
  }
 ],
 "metadata": {
  "colab": {
   "name": "hyper_param_tuning_01.ipynb",
   "provenance": []
  },
  "kernelspec": {
   "display_name": "Python 3",
   "language": "python",
   "name": "python3"
  },
  "language_info": {
   "codemirror_mode": {
    "name": "ipython",
    "version": 3
   },
   "file_extension": ".py",
   "mimetype": "text/x-python",
   "name": "python",
   "nbconvert_exporter": "python",
   "pygments_lexer": "ipython3",
   "version": "3.7.10"
  }
 },
 "nbformat": 4,
 "nbformat_minor": 1
}
